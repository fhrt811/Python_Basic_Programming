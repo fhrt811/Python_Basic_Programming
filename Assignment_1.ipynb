{
 "cells": [
  {
   "cell_type": "code",
   "execution_count": null,
   "id": "918ba355",
   "metadata": {},
   "outputs": [],
   "source": [
    "Q1:\n",
    "Write a Python program to print 'Hello Python' ?"
   ]
  },
  {
   "cell_type": "code",
   "execution_count": 1,
   "id": "7e6facaa",
   "metadata": {},
   "outputs": [
    {
     "name": "stdout",
     "output_type": "stream",
     "text": [
      "Hello Python\n"
     ]
    }
   ],
   "source": [
    "#Ans1:\n",
    "print(\"Hello Python\")"
   ]
  },
  {
   "cell_type": "code",
   "execution_count": null,
   "id": "85d71ba2",
   "metadata": {},
   "outputs": [],
   "source": [
    "Q2:\n",
    "Write a Python program to do arithmetic operations addition and division ?"
   ]
  },
  {
   "cell_type": "code",
   "execution_count": 2,
   "id": "7afd0973",
   "metadata": {},
   "outputs": [
    {
     "name": "stdout",
     "output_type": "stream",
     "text": [
      "Enter first number: 67\n",
      "Enter second number: 34\n",
      "Addition of two numbers is: 101.0\n",
      "Enter first number: 88\n",
      "Enter second number: 22\n",
      "Division of two numbers is: 4.0\n"
     ]
    }
   ],
   "source": [
    "#Ans2:\n",
    "def Add():\n",
    "    a=float(input(\"Enter first number: \"))\n",
    "    b=float(input(\"Enter second number: \"))\n",
    "    print(f\"Addition of two numbers is: {a+b}\")\n",
    "def div():\n",
    "    c=float(input(\"Enter first number: \"))\n",
    "    d=float(input(\"Enter second number: \"))\n",
    "    print(f\"Division of two numbers is: {c/d}\")\n",
    "\n",
    "Add()\n",
    "div()"
   ]
  },
  {
   "cell_type": "code",
   "execution_count": null,
   "id": "17eed92a",
   "metadata": {},
   "outputs": [],
   "source": [
    "Q3:\n",
    "Write a Python program to find the area of a triangle ?"
   ]
  },
  {
   "cell_type": "code",
   "execution_count": 3,
   "id": "5b263640",
   "metadata": {},
   "outputs": [
    {
     "name": "stdout",
     "output_type": "stream",
     "text": [
      "Enter Radius: 5.6\n"
     ]
    },
    {
     "data": {
      "text/plain": [
       "98.4704"
      ]
     },
     "execution_count": 3,
     "metadata": {},
     "output_type": "execute_result"
    }
   ],
   "source": [
    "#Ans3:\n",
    "def Area():\n",
    "    r=float(input(\"Enter Radius: \"))\n",
    "    return (3.14 * r**2)\n",
    "Area()"
   ]
  },
  {
   "cell_type": "code",
   "execution_count": null,
   "id": "c5a77646",
   "metadata": {},
   "outputs": [],
   "source": [
    "Q4:\n",
    "Write a Python program to swap two variables ?"
   ]
  },
  {
   "cell_type": "code",
   "execution_count": 4,
   "id": "902495ba",
   "metadata": {},
   "outputs": [
    {
     "name": "stdout",
     "output_type": "stream",
     "text": [
      "Enter first number: 10\n",
      "Enter second number: 20\n",
      "Entered numbers: 10 20\n",
      "After swapping: 20 10\n"
     ]
    }
   ],
   "source": [
    "#Ans4:\n",
    "num1=int(input(\"Enter first number: \"))\n",
    "num2=int(input(\"Enter second number: \"))\n",
    "\n",
    "def SwapNum(a,b):\n",
    "    temp=a\n",
    "    a=b\n",
    "    b=temp\n",
    "    return a,b\n",
    "    \n",
    "print(\"Entered numbers:\", num1,num2)\n",
    "num1,num2 = SwapNum(num1,num2)\n",
    "print(\"After swapping:\", num1,num2)"
   ]
  },
  {
   "cell_type": "code",
   "execution_count": null,
   "id": "df85e5b6",
   "metadata": {},
   "outputs": [],
   "source": [
    "Q5:\n",
    "Write a Python program to generate a random number ?"
   ]
  },
  {
   "cell_type": "code",
   "execution_count": 7,
   "id": "0b020404",
   "metadata": {},
   "outputs": [
    {
     "name": "stdout",
     "output_type": "stream",
     "text": [
      "The Random number is:  711\n",
      "The Random number is:  14\n"
     ]
    }
   ],
   "source": [
    "#Ans5:\n",
    "from random import randint\n",
    "def RandomNum(start=0, end=1000):\n",
    "    print(\"The Random number is: \", randint(start,end))\n",
    "    \n",
    "RandomNum() #Generating Random number between 0 and 1000, as the given initial argument\n",
    "RandomNum(0,50) #Generating ramdom number between 0 and 50"
   ]
  },
  {
   "cell_type": "code",
   "execution_count": null,
   "id": "4f6139f7",
   "metadata": {},
   "outputs": [],
   "source": []
  }
 ],
 "metadata": {
  "kernelspec": {
   "display_name": "Python 3 (ipykernel)",
   "language": "python",
   "name": "python3"
  },
  "language_info": {
   "codemirror_mode": {
    "name": "ipython",
    "version": 3
   },
   "file_extension": ".py",
   "mimetype": "text/x-python",
   "name": "python",
   "nbconvert_exporter": "python",
   "pygments_lexer": "ipython3",
   "version": "3.9.13"
  }
 },
 "nbformat": 4,
 "nbformat_minor": 5
}
