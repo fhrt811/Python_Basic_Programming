{
 "cells": [
  {
   "cell_type": "code",
   "execution_count": null,
   "id": "fc432fe5",
   "metadata": {},
   "outputs": [],
   "source": [
    "Q1:\n",
    "Write a Python Program to find sum of elements in a list?"
   ]
  },
  {
   "cell_type": "code",
   "execution_count": 2,
   "id": "778c4abd",
   "metadata": {},
   "outputs": [
    {
     "name": "stdout",
     "output_type": "stream",
     "text": [
      "Enter the number of elements to be stored in the list: 6\n",
      "Enter the 0th element of input_list: 1\n",
      "Enter the 1th element of input_list: 2\n",
      "Enter the 2th element of input_list: 3\n",
      "Enter the 3th element of input_list: 4\n",
      "Enter the 4th element of input_list: 5\n",
      "Enter the 5th element of input_list: 6\n",
      "The input list is [1, 2, 3, 4, 5, 6]\n",
      "\n",
      "The sum of elements of input list is: 21\n"
     ]
    }
   ],
   "source": [
    "#Ans1:\n",
    "def sum_of_ele():\n",
    "    input_list=[]\n",
    "    element_counts=int(input(\"Enter the number of elements to be stored in the list: \"))\n",
    "    for i in range(element_counts):\n",
    "        input_list.append(int(input(f\"Enter the {i}th element of input_list: \")))\n",
    "    print(f\"The input list is {input_list}\")\n",
    "    print(f\"\\nThe sum of elements of input list is: {(sum(input_list))}\")\n",
    "    \n",
    "sum_of_ele()"
   ]
  },
  {
   "cell_type": "code",
   "execution_count": null,
   "id": "a91cd832",
   "metadata": {},
   "outputs": [],
   "source": [
    "Q2:\n",
    "Write a Python Program to multiply all numbers in the list?"
   ]
  },
  {
   "cell_type": "code",
   "execution_count": 6,
   "id": "5274136b",
   "metadata": {},
   "outputs": [
    {
     "name": "stdout",
     "output_type": "stream",
     "text": [
      "Enter the number of elements to be stored in the list: 4\n",
      "Enter the 0th element of input_list: 2\n",
      "Enter the 1th element of input_list: 3\n",
      "Enter the 2th element of input_list: 1\n",
      "Enter the 3th element of input_list: 4\n",
      "The input list is [2, 3, 1, 4]\n",
      "\n",
      "The product of all the elements of input list is 24\n"
     ]
    }
   ],
   "source": [
    "#Ans2:\n",
    "def mul_of_ele():\n",
    "    prod=1\n",
    "    input_list=[]\n",
    "    element_counts=int(input(\"Enter the number of elements to be stored in the list: \"))\n",
    "    for i in range(element_counts):\n",
    "        input_list.append(int(input(f\"Enter the {i}th element of input_list: \")))\n",
    "    print(f\"The input list is {input_list}\")\n",
    "    for i in input_list:\n",
    "        prod=prod*i\n",
    "    print(f\"\\nThe product of all the elements of input list is {prod}\")\n",
    "          \n",
    "mul_of_ele()"
   ]
  },
  {
   "cell_type": "code",
   "execution_count": null,
   "id": "73a6cecc",
   "metadata": {},
   "outputs": [],
   "source": [
    "Q3:\n",
    "Write a Python Program to find smallest number in the list?"
   ]
  },
  {
   "cell_type": "code",
   "execution_count": 12,
   "id": "496bca50",
   "metadata": {},
   "outputs": [
    {
     "name": "stdout",
     "output_type": "stream",
     "text": [
      "Enter the number of elements to be stored in the list: 6\n",
      "Enter the 0th element of input_list: 43\n",
      "Enter the 1th element of input_list: 12\n",
      "Enter the 2th element of input_list: 43\n",
      "Enter the 3th element of input_list: 22\n",
      "Enter the 4th element of input_list: 67\n",
      "Enter the 5th element of input_list: 3\n",
      "The input list is [43, 12, 43, 22, 67, 3]\n",
      "The smallest element in the list is 3\n",
      "The smallest element in the list is 3\n"
     ]
    }
   ],
   "source": [
    "#Ans3:\n",
    "def search_smallest():\n",
    "    \n",
    "    input_list=[]\n",
    "    element_counts=int(input(\"Enter the number of elements to be stored in the list: \"))\n",
    "    for i in range(element_counts):\n",
    "        input_list.append(int(input(f\"Enter the {i}th element of input_list: \")))\n",
    "    print(f\"The input list is {input_list}\")\n",
    "    print(f\"The smallest element in the list is {min(input_list)}\") #Method 1\n",
    "    print(f\"The smallest element in the list is {sorted(input_list)[0]}\") #Method 2\n",
    "    \n",
    "search_smallest()"
   ]
  },
  {
   "cell_type": "code",
   "execution_count": null,
   "id": "acd4cd38",
   "metadata": {},
   "outputs": [],
   "source": [
    "Q4:\n",
    "Write a Python Program to find largest number in the list?"
   ]
  },
  {
   "cell_type": "code",
   "execution_count": 13,
   "id": "e3ea0da6",
   "metadata": {},
   "outputs": [
    {
     "name": "stdout",
     "output_type": "stream",
     "text": [
      "Enter the number of elements to be stored in the list: 7\n",
      "Enter the 1th element of input_list: 32\n",
      "Enter the 2th element of input_list: 4\n",
      "Enter the 3th element of input_list: 67\n",
      "Enter the 4th element of input_list: 90\n",
      "Enter the 5th element of input_list: 100\n",
      "Enter the 6th element of input_list: 54\n",
      "Enter the 7th element of input_list: 6\n",
      "The input list is [32, 4, 67, 90, 100, 54, 6]\n",
      "The largest element in the list is 100\n",
      "The largest element in the list is 100\n"
     ]
    }
   ],
   "source": [
    "#Ans4:\n",
    "def search_largest():\n",
    "    \n",
    "    input_list=[]\n",
    "    element_counts=int(input(\"Enter the number of elements to be stored in the list: \"))\n",
    "    for i in range(element_counts):\n",
    "        input_list.append(int(input(f\"Enter the {i+1}th element of input_list: \")))\n",
    "    print(f\"The input list is {input_list}\")\n",
    "    print(f\"The largest element in the list is {max(input_list)}\") #Method 1\n",
    "    print(f\"The largest element in the list is {sorted(input_list)[-1]}\") #Method 2\n",
    "    \n",
    "search_largest()"
   ]
  },
  {
   "cell_type": "code",
   "execution_count": null,
   "id": "8133833d",
   "metadata": {},
   "outputs": [],
   "source": [
    "Q5:\n",
    "Write a Python Program to find second largest number in the list?"
   ]
  },
  {
   "cell_type": "code",
   "execution_count": 17,
   "id": "3deca14b",
   "metadata": {},
   "outputs": [
    {
     "name": "stdout",
     "output_type": "stream",
     "text": [
      "Enter the number of elements to be stored in the list: 7\n",
      "Enter the 1th element of input_list: 3\n",
      "Enter the 2th element of input_list: 6\n",
      "Enter the 3th element of input_list: 21\n",
      "Enter the 4th element of input_list: 67\n",
      "Enter the 5th element of input_list: 6\n",
      "Enter the 6th element of input_list: 24\n",
      "Enter the 7th element of input_list: 43\n",
      "The input list is [3, 6, 21, 67, 6, 24, 43]\n",
      "The second largest element in the list is 43\n"
     ]
    }
   ],
   "source": [
    "#Ans5:\n",
    "def search_second_largest(): \n",
    "    input_list=[]\n",
    "    element_counts=int(input(\"Enter the number of elements to be stored in the list: \"))\n",
    "    for i in range(element_counts):\n",
    "        input_list.append(int(input(f\"Enter the {i+1}th element of input_list: \")))\n",
    "    print(f\"The input list is {input_list}\")\n",
    "    print(f\"The second largest element in the list is {sorted(input_list)[-2]}\")\n",
    "    \n",
    "search_second_largest()"
   ]
  },
  {
   "cell_type": "code",
   "execution_count": null,
   "id": "55becc2b",
   "metadata": {},
   "outputs": [],
   "source": [
    "Q6:\n",
    "Write a Python Program to find N largest elements in the list?"
   ]
  },
  {
   "cell_type": "code",
   "execution_count": 19,
   "id": "0bdc3179",
   "metadata": {},
   "outputs": [
    {
     "name": "stdout",
     "output_type": "stream",
     "text": [
      "Enter the number of elements to be stored in the list: 6\n",
      "Enter the 1th element of input_list: 34\n",
      "Enter the 2th element of input_list: 45\n",
      "Enter the 3th element of input_list: 87\n",
      "Enter the 4th element of input_list: 2\n",
      "Enter the 5th element of input_list: 98\n",
      "Enter the 6th element of input_list: 43\n",
      "The input list is [34, 45, 87, 2, 98, 43]\n",
      "Enter the number of degree of largeness of element in the input_list: 4\n",
      "The 4th largest element in the input list is 43\n"
     ]
    }
   ],
   "source": [
    "#Ans6:\n",
    "def N_largest():\n",
    "    input_list=[]\n",
    "    element_counts=int(input(\"Enter the number of elements to be stored in the list: \"))\n",
    "    for i in range(element_counts):\n",
    "        input_list.append(int(input(f\"Enter the {i+1}th element of input_list: \")))\n",
    "    print(f\"The input list is {input_list}\")\n",
    "    N=int(input(\"Enter the number of degree of largeness of element in the input_list: \"))\n",
    "    print(f\"The {N}th largest element in the input list is {sorted(input_list, reverse=True)[N-1]}\")\n",
    "    \n",
    "N_largest()"
   ]
  },
  {
   "cell_type": "code",
   "execution_count": null,
   "id": "baf1cbc8",
   "metadata": {},
   "outputs": [],
   "source": [
    "Q7:\n",
    "Write a Python Program to find even numbers in the list?"
   ]
  },
  {
   "cell_type": "code",
   "execution_count": 20,
   "id": "b3fde067",
   "metadata": {},
   "outputs": [
    {
     "name": "stdout",
     "output_type": "stream",
     "text": [
      "Enter the number of elements to be stored in the list: 6\n",
      "Enter the 1th element of input_list: 23\n",
      "Enter the 2th element of input_list: 42\n",
      "Enter the 3th element of input_list: 43\n",
      "Enter the 4th element of input_list: 46\n",
      "Enter the 5th element of input_list: 56\n",
      "Enter the 6th element of input_list: 4\n",
      "The input list is [23, 42, 43, 46, 56, 4]\n",
      "The even numbers present in list [23, 42, 43, 46, 56, 4] are: [42, 46, 56, 4]\n"
     ]
    }
   ],
   "source": [
    "#Ans7:\n",
    "def even_in_list():\n",
    "    input_list=[]\n",
    "    even_list=[]\n",
    "    element_counts=int(input(\"Enter the number of elements to be stored in the list: \"))\n",
    "    for i in range(element_counts):\n",
    "        input_list.append(int(input(f\"Enter the {i+1}th element of input_list: \")))\n",
    "    print(f\"The input list is {input_list}\")\n",
    "    for i in input_list:\n",
    "        if i%2==0:\n",
    "            even_list.append(i)\n",
    "    print(f\"The even numbers present in list {input_list} are: {even_list}\")\n",
    "\n",
    "even_in_list()"
   ]
  },
  {
   "cell_type": "code",
   "execution_count": null,
   "id": "71d4195f",
   "metadata": {},
   "outputs": [],
   "source": [
    "Q8:\n",
    "Write a Python Program to find odd numbers in the list?"
   ]
  },
  {
   "cell_type": "code",
   "execution_count": 21,
   "id": "d2c33055",
   "metadata": {},
   "outputs": [
    {
     "name": "stdout",
     "output_type": "stream",
     "text": [
      "Enter the number of elements to be stored in the list: 6\n",
      "Enter the 1th element of input_list: 21\n",
      "Enter the 2th element of input_list: 23\n",
      "Enter the 3th element of input_list: 34\n",
      "Enter the 4th element of input_list: 45\n",
      "Enter the 5th element of input_list: 6\n",
      "Enter the 6th element of input_list: 8\n",
      "The input list is [21, 23, 34, 45, 6, 8]\n",
      "The odd numbers present in list [21, 23, 34, 45, 6, 8] are: [21, 23, 45]\n"
     ]
    }
   ],
   "source": [
    "#Ans8:\n",
    "def odd_in_list():\n",
    "    input_list=[]\n",
    "    odd_list=[]\n",
    "    element_counts=int(input(\"Enter the number of elements to be stored in the list: \"))\n",
    "    for i in range(element_counts):\n",
    "        input_list.append(int(input(f\"Enter the {i+1}th element of input_list: \")))\n",
    "    print(f\"The input list is {input_list}\")\n",
    "    for i in input_list:\n",
    "        if i%2!=0:\n",
    "            odd_list.append(i)\n",
    "    print(f\"The odd numbers present in list {input_list} are: {odd_list}\")\n",
    "\n",
    "odd_in_list()"
   ]
  },
  {
   "cell_type": "code",
   "execution_count": null,
   "id": "cbbcd5f5",
   "metadata": {},
   "outputs": [],
   "source": [
    "Q9:\n",
    "Write a Python Program to remove empty list from list?"
   ]
  },
  {
   "cell_type": "code",
   "execution_count": 35,
   "id": "4fca2f40",
   "metadata": {},
   "outputs": [
    {
     "name": "stdout",
     "output_type": "stream",
     "text": [
      "Enter the elements of the list: [32, 45, 78, [], 89]\n",
      "The input list is [32, 45, 78, [], 89]\n",
      "The list after removing [] is [32, 45, 78, 89]\n"
     ]
    }
   ],
   "source": [
    "#Ans9:\n",
    "def remove_empty_list():\n",
    "    input_list=eval(input(\"Enter the elements of the list: \"))\n",
    "    print(f\"The input list is {input_list}\")\n",
    "    if [] in input_list:\n",
    "        input_list.remove([])\n",
    "        print(f\"The list after removing [] is {input_list}\")\n",
    "    \n",
    "remove_empty_list()"
   ]
  },
  {
   "cell_type": "code",
   "execution_count": null,
   "id": "8380733d",
   "metadata": {},
   "outputs": [],
   "source": [
    "Q10:\n",
    "Write a Python Program to Cloning or Copying a list?"
   ]
  },
  {
   "cell_type": "code",
   "execution_count": 36,
   "id": "cf6f13a5",
   "metadata": {},
   "outputs": [
    {
     "name": "stdout",
     "output_type": "stream",
     "text": [
      "Enter a list[12, 3, 56, 78, 44, 7]\n",
      "[12, 3, 56, 78, 44, 7] 1496997117696\n",
      "[12, 3, 56, 78, 44, 7] 1496997134592\n"
     ]
    }
   ],
   "source": [
    "#Ans10:\n",
    "def cloneList():\n",
    "    in_list = eval(input('Enter a list'))\n",
    "    print(in_list, id(in_list))\n",
    "    cloned_list = in_list.copy()\n",
    "    print(cloned_list, id(cloned_list))\n",
    "\n",
    "cloneList()"
   ]
  },
  {
   "cell_type": "code",
   "execution_count": null,
   "id": "d9dde259",
   "metadata": {},
   "outputs": [],
   "source": [
    "Q11:\n",
    "Write a Python Program to count occurences of an element in a list?"
   ]
  },
  {
   "cell_type": "code",
   "execution_count": 37,
   "id": "be15e6d0",
   "metadata": {},
   "outputs": [
    {
     "name": "stdout",
     "output_type": "stream",
     "text": [
      "Enter the elements of the list: [1,2,3,1,2,3,1,2,3,4,5,6,4,5,6]\n",
      "Enter the element to find: 2\n",
      "There are 3 occurences of 2 in [1, 2, 3, 1, 2, 3, 1, 2, 3, 4, 5, 6, 4, 5, 6]\n"
     ]
    }
   ],
   "source": [
    "#Ans11:\n",
    "def checkOccurence():\n",
    "    in_list = eval(input('Enter the elements of the list: '))\n",
    "    in_num = eval(input('Enter the element to find: '))\n",
    "    count = 0\n",
    "    if in_num in in_list:\n",
    "        for ele in in_list:\n",
    "            if ele == in_num:\n",
    "                count = count+1\n",
    "    print(f'There are {count} occurences of {in_num} in {in_list}')\n",
    "    \n",
    "checkOccurence()"
   ]
  }
 ],
 "metadata": {
  "kernelspec": {
   "display_name": "Python 3 (ipykernel)",
   "language": "python",
   "name": "python3"
  },
  "language_info": {
   "codemirror_mode": {
    "name": "ipython",
    "version": 3
   },
   "file_extension": ".py",
   "mimetype": "text/x-python",
   "name": "python",
   "nbconvert_exporter": "python",
   "pygments_lexer": "ipython3",
   "version": "3.9.13"
  }
 },
 "nbformat": 4,
 "nbformat_minor": 5
}
