{
 "cells": [
  {
   "cell_type": "code",
   "execution_count": null,
   "id": "e745d0cb",
   "metadata": {},
   "outputs": [],
   "source": [
    "Q1:\n",
    "Write a Python program to find words which are greater than given length k?"
   ]
  },
  {
   "cell_type": "code",
   "execution_count": 1,
   "id": "8f8d7f4c",
   "metadata": {},
   "outputs": [
    {
     "name": "stdout",
     "output_type": "stream",
     "text": [
      "Enter the desired length for word: 4\n",
      "Enter a string: My name is Faisal Ansari and I am learning DataScience at ineuron, by Sudhanshu and Krish\n",
      "words which are greater than given length 4:['Faisal', 'Ansari', 'learning', 'DataScience', 'ineuron,', 'Sudhanshu', 'Krish']\n"
     ]
    }
   ],
   "source": [
    "#Ans1:\n",
    "def refined_by_length():\n",
    "    result=[]\n",
    "    k=int(input(\"Enter the desired length for word: \"))\n",
    "    input_string=input(\"Enter a string: \")\n",
    "    splitted_string=input_string.split(\" \")\n",
    "    for i in splitted_string:\n",
    "        if len(i)>k:\n",
    "            result.append(i)\n",
    "    print(f\"words which are greater than given length {k}:{result}\")\n",
    "    \n",
    "refined_by_length()"
   ]
  },
  {
   "cell_type": "code",
   "execution_count": null,
   "id": "a2bce1cf",
   "metadata": {},
   "outputs": [],
   "source": [
    "Q2:\n",
    "Write a Python program for removing i-th character from a string?"
   ]
  },
  {
   "cell_type": "code",
   "execution_count": 3,
   "id": "ac7095e5",
   "metadata": {},
   "outputs": [
    {
     "name": "stdout",
     "output_type": "stream",
     "text": [
      "Enter the character number which is need to remove from the string: 3\n",
      "Enter a string: Faisal\n",
      "The result after removing the 3th character is: Fasal\n"
     ]
    }
   ],
   "source": [
    "#Ans2:\n",
    "def remove_char():\n",
    "    i=int(input(\"Enter the character number which is need to remove from the string: \"))\n",
    "    input_string=input(\"Enter a string: \")\n",
    "    for j in range(len(input_string)):\n",
    "        if j==(i-1):\n",
    "            input_string=input_string.replace(input_string[(i-1)],\"\")\n",
    "    print(f\"The result after removing the {i}th character is: {input_string}\")\n",
    "    \n",
    "remove_char()"
   ]
  },
  {
   "cell_type": "code",
   "execution_count": null,
   "id": "bb033be9",
   "metadata": {},
   "outputs": [],
   "source": [
    "Q3:\n",
    "Write a Python program to split and join a string?"
   ]
  },
  {
   "cell_type": "code",
   "execution_count": 6,
   "id": "20e28517",
   "metadata": {},
   "outputs": [
    {
     "name": "stdout",
     "output_type": "stream",
     "text": [
      "Enter a string for splitting and joining: I am learning DataScience at ineuron\n",
      "The splitted string is: ['I', 'am', 'learning', 'DataScience', 'at', 'ineuron']\n",
      "The joined string is: I_am_learning_DataScience_at_ineuron\n"
     ]
    }
   ],
   "source": [
    "#Ans3:\n",
    "def split_join():\n",
    "    string=input(\"Enter a string for splitting and joining: \")\n",
    "    splitted_string=string.split(\" \")\n",
    "    print(f\"The splitted string is: {splitted_string}\")\n",
    "    print(f\"The joined string is: {'_'.join(splitted_string)}\")\n",
    "    \n",
    "split_join()"
   ]
  },
  {
   "cell_type": "code",
   "execution_count": null,
   "id": "f2874b10",
   "metadata": {},
   "outputs": [],
   "source": [
    "Q4:\n",
    "Write a Python program to check if a given string is binary string or not?"
   ]
  },
  {
   "cell_type": "code",
   "execution_count": 14,
   "id": "10b98afb",
   "metadata": {},
   "outputs": [
    {
     "name": "stdout",
     "output_type": "stream",
     "text": [
      "Enter a string for checking if it is binary or not: 1100101001\n",
      "The Entered string is binary\n",
      "Enter a string for checking if it is binary or not: 12345\n",
      "The Entered string is not binary\n"
     ]
    }
   ],
   "source": [
    "#Ans4:\n",
    "def checkbinary():\n",
    "    instring=input(\"Enter a string for checking if it is binary or not: \")\n",
    "    for i in instring:\n",
    "        if i=='0' or i=='1':\n",
    "            result=\"The Entered string is binary\"\n",
    "        else:\n",
    "            result=\"The Entered string is not binary\"\n",
    "    print(result)\n",
    "checkbinary()\n",
    "checkbinary()"
   ]
  },
  {
   "cell_type": "code",
   "execution_count": null,
   "id": "6c4ae823",
   "metadata": {},
   "outputs": [],
   "source": [
    "Q5:\n",
    "Write a Python program to find uncommon words from two Strings?"
   ]
  },
  {
   "cell_type": "code",
   "execution_count": 31,
   "id": "2d812269",
   "metadata": {},
   "outputs": [
    {
     "name": "stdout",
     "output_type": "stream",
     "text": [
      "Enter the first string: My name is faisal ansari\n",
      "Enter the second string: i am faisal ansari\n",
      "The uncommon words are: {'name', 'am', 'i', 'is', 'My'}\n"
     ]
    }
   ],
   "source": [
    "#Ans5:\n",
    "def uncommon_words():\n",
    "    string1=input(\"Enter the first string: \")\n",
    "    split_string1=set(string1.split(\" \"))\n",
    "    string2=input(\"Enter the second string: \")\n",
    "    split_string2=set(string2.split(\" \"))\n",
    "    out_string = (split_string1.union(split_string2)).difference(split_string1.intersection(split_string2))\n",
    "    print(f\"The uncommon words are: {out_string}\")\n",
    "    \n",
    "uncommon_words()"
   ]
  },
  {
   "cell_type": "code",
   "execution_count": null,
   "id": "720b85d7",
   "metadata": {},
   "outputs": [],
   "source": [
    "Q6:\n",
    "Write a Python to find all duplicate characters in string?"
   ]
  },
  {
   "cell_type": "code",
   "execution_count": 36,
   "id": "dfed3a30",
   "metadata": {},
   "outputs": [
    {
     "name": "stdout",
     "output_type": "stream",
     "text": [
      "Enter a string to find the duplicate characters: qwefjhfazcartiuyicvsbnsnmlpol\n",
      "The list of duplicate characters in the string is: ['c', 'i', 'l', 'n', 's', 'a', 'f']\n"
     ]
    }
   ],
   "source": [
    "#Ans6:\n",
    "def dup_char():\n",
    "    string=input(\"Enter a string to find the duplicate characters: \")\n",
    "    non_dup_char_list=[]\n",
    "    dup_char_list=[]\n",
    "    for i in string:\n",
    "        if i not in non_dup_char_list:\n",
    "            non_dup_char_list.append(i)\n",
    "        else:\n",
    "            dup_char_list.append(i)\n",
    "            \n",
    "    print(f\"The list of duplicate characters in the string is: {list(set(dup_char_list))}\")\n",
    "    \n",
    "dup_char()"
   ]
  },
  {
   "cell_type": "code",
   "execution_count": null,
   "id": "71f6bb53",
   "metadata": {},
   "outputs": [],
   "source": [
    "Q7:\n",
    "Write a Python Program to check if a string contains any special character?"
   ]
  },
  {
   "cell_type": "code",
   "execution_count": 37,
   "id": "6a28cfa3",
   "metadata": {},
   "outputs": [
    {
     "name": "stdout",
     "output_type": "stream",
     "text": [
      "Enter a string to check for special character: My email id is fhrt@gmail.com\n",
      "The special characters found in string are: ['@']\n"
     ]
    }
   ],
   "source": [
    "#Ans7:\n",
    "def special_char():\n",
    "    string=input(\"Enter a string to check for special character: \")\n",
    "    spl_chars='[@_!#$%^&*()<>?/\\|}{~:]'\n",
    "    char_list=[]\n",
    "    for i in string:\n",
    "        if i in spl_chars:\n",
    "            char_list.append(i)\n",
    "        else:\n",
    "            pass\n",
    "    print(f\"The special characters found in string are: {char_list}\")\n",
    "special_char()"
   ]
  }
 ],
 "metadata": {
  "kernelspec": {
   "display_name": "Python 3 (ipykernel)",
   "language": "python",
   "name": "python3"
  },
  "language_info": {
   "codemirror_mode": {
    "name": "ipython",
    "version": 3
   },
   "file_extension": ".py",
   "mimetype": "text/x-python",
   "name": "python",
   "nbconvert_exporter": "python",
   "pygments_lexer": "ipython3",
   "version": "3.9.13"
  }
 },
 "nbformat": 4,
 "nbformat_minor": 5
}
