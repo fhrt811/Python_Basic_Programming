{
 "cells": [
  {
   "cell_type": "code",
   "execution_count": null,
   "id": "ccf4e1e1",
   "metadata": {},
   "outputs": [],
   "source": [
    "Q1:\n",
    "Write a Python program to Extract Unique values dictionary values?"
   ]
  },
  {
   "cell_type": "code",
   "execution_count": 1,
   "id": "4af149ad",
   "metadata": {},
   "outputs": [
    {
     "name": "stdout",
     "output_type": "stream",
     "text": [
      "Enter the length of dictionary: 4\n",
      "Enter employee's name: Faisal\n",
      "Enter employee's salary: 50000\n",
      "Enter employee's name: Sanjeev\n",
      "Enter employee's salary: 89000\n",
      "Enter employee's name: Asif\n",
      "Enter employee's salary: 50000\n",
      "Enter employee's name: Bipin\n",
      "Enter employee's salary: 78000\n",
      "The dictionary is {'Faisal': '50000', 'Sanjeev': '89000', 'Asif': '50000', 'Bipin': '78000'}\n",
      "The uniques dictionary values are: ['50000', '78000', '89000']\n"
     ]
    }
   ],
   "source": [
    "#Ans1:\n",
    "def unique_values():\n",
    "    employees = {}\n",
    "    k=int(input(\"Enter the length of dictionary: \"))\n",
    "    for i in range(k):\n",
    "        name = input(\"Enter employee's name: \")\n",
    "        salary = input(\"Enter employee's salary: \")\n",
    "        employees[name] = salary\n",
    "    print(f\"The dictionary is {employees}\")\n",
    "    print(f\"The uniques dictionary values are: {list(set((employees.values())))}\")\n",
    "unique_values()"
   ]
  },
  {
   "cell_type": "code",
   "execution_count": null,
   "id": "301153a6",
   "metadata": {},
   "outputs": [],
   "source": [
    "Q2:\n",
    "Write a Python program to find the sum of all items in a dictionary?"
   ]
  },
  {
   "cell_type": "code",
   "execution_count": 2,
   "id": "08f1e605",
   "metadata": {},
   "outputs": [
    {
     "name": "stdout",
     "output_type": "stream",
     "text": [
      "Enter the length of dictionary: 4\n",
      "Enter employee's name: faisal\n",
      "Enter employee's salary: 40000\n",
      "Enter employee's name: sanjeev\n",
      "Enter employee's salary: 78000\n",
      "Enter employee's name: bipin\n",
      "Enter employee's salary: 5600\n",
      "Enter employee's name: asif\n",
      "Enter employee's salary: 25000\n",
      "The dictionary is {'faisal': 40000, 'sanjeev': 78000, 'bipin': 5600, 'asif': 25000}\n",
      "The sum of all items in the dictionary is:  148600\n"
     ]
    }
   ],
   "source": [
    "#Ans2:\n",
    "def sum_items():\n",
    "    employees = {}\n",
    "    k=int(input(\"Enter the length of dictionary: \"))\n",
    "    for i in range(k):\n",
    "        name = input(\"Enter employee's name: \")\n",
    "        salary = int(input(\"Enter employee's salary: \"))\n",
    "        employees[name] = salary\n",
    "    print(f\"The dictionary is {employees}\")\n",
    "    print(\"The sum of all items in the dictionary is: \", sum(employees.values()))\n",
    "    \n",
    "sum_items()"
   ]
  },
  {
   "cell_type": "code",
   "execution_count": null,
   "id": "f3f30f74",
   "metadata": {},
   "outputs": [],
   "source": [
    "Q3:\n",
    "Write a Python program to Merging two Dictionaries?"
   ]
  },
  {
   "cell_type": "code",
   "execution_count": 3,
   "id": "2c1f37c0",
   "metadata": {},
   "outputs": [
    {
     "name": "stdout",
     "output_type": "stream",
     "text": [
      "{'Name': 'Faisal', 'Roll number': 567, 'course': 'FSDS', 'institute': 'ineuron'}\n"
     ]
    }
   ],
   "source": [
    "#Ans3:\n",
    "dic1={\n",
    "    \"Name\":\"Faisal\",\n",
    "    \"Roll number\":567\n",
    "}\n",
    "dic2={\n",
    "    \"course\":\"FSDS\",\n",
    "    \"institute\":\"ineuron\"\n",
    "}\n",
    "dic1.update(dic2)\n",
    "print(dic1)"
   ]
  },
  {
   "cell_type": "code",
   "execution_count": 4,
   "id": "a708a8d0",
   "metadata": {},
   "outputs": [
    {
     "ename": "SyntaxError",
     "evalue": "invalid syntax (4126900336.py, line 1)",
     "output_type": "error",
     "traceback": [
      "\u001b[1;36m  File \u001b[1;32m\"C:\\Users\\fhrt8\\AppData\\Local\\Temp\\ipykernel_7216\\4126900336.py\"\u001b[1;36m, line \u001b[1;32m1\u001b[0m\n\u001b[1;33m    Q4:\u001b[0m\n\u001b[1;37m       ^\u001b[0m\n\u001b[1;31mSyntaxError\u001b[0m\u001b[1;31m:\u001b[0m invalid syntax\n"
     ]
    }
   ],
   "source": [
    "Q4:\n",
    "Write a Python program to convert key-values list to flat dictionary?"
   ]
  },
  {
   "cell_type": "code",
   "execution_count": 6,
   "id": "6c539f63",
   "metadata": {},
   "outputs": [
    {
     "name": "stdout",
     "output_type": "stream",
     "text": [
      "Method1: {'A': 10, 'B': 20, 'C': 30, 'D': 40, 'E': 50, 'F': 60, 'G': 70, 'H': 80, 'I': 90, 'J': 100}\n",
      "Method2 {'A': 10, 'B': 20, 'C': 30, 'D': 40, 'E': 50, 'F': 60, 'G': 70, 'H': 80, 'I': 90, 'J': 100}\n"
     ]
    }
   ],
   "source": [
    "#Ans4:\n",
    "my_list = [('A',10),('B',20),('C',30),('D',40),('E',50),('F',60),('G',70),('H',80),('I',90),('J',100)]\n",
    "\n",
    "# Method #1\n",
    "print(f\"Method1: {dict(my_list)}\")\n",
    "\n",
    "\n",
    "# Method #2\n",
    "my_dict = {}\n",
    "for i in my_list:\n",
    "    my_dict[i[0]] = i[1]\n",
    "print(f\"Method2 {my_dict}\")"
   ]
  },
  {
   "cell_type": "code",
   "execution_count": null,
   "id": "a0a60258",
   "metadata": {},
   "outputs": [],
   "source": [
    "Q5:\n",
    "Write a Python program to insertion at the beginning in OrderedDict?"
   ]
  },
  {
   "cell_type": "code",
   "execution_count": 8,
   "id": "7415a3d0",
   "metadata": {},
   "outputs": [
    {
     "name": "stdout",
     "output_type": "stream",
     "text": [
      "dict_one OrderedDict([('Apple', 'Iphone'), ('Microsoft', 'Windows'), ('Google', 'chrome')])\n",
      "{'Tesla': 'SpaceX', 'Apple': 'Iphone', 'Microsoft': 'Windows', 'Google': 'chrome'}\n"
     ]
    }
   ],
   "source": [
    "#Ans5:\n",
    "from collections import OrderedDict\n",
    "dict_one = OrderedDict({'Apple':'Iphone','Microsoft':'Windows','Google':'chrome'})\n",
    "print('dict_one',dict_one)\n",
    "dict_two = {'Tesla':'SpaceX'}\n",
    "dict_two.update(dict_one)\n",
    "print(dict_two)"
   ]
  },
  {
   "cell_type": "code",
   "execution_count": null,
   "id": "f0e91fb6",
   "metadata": {},
   "outputs": [],
   "source": [
    "Q6:\n",
    "Write a Python program to check order of character in string using OrderedDict()?"
   ]
  },
  {
   "cell_type": "code",
   "execution_count": 21,
   "id": "4839cae8",
   "metadata": {},
   "outputs": [
    {
     "name": "stdout",
     "output_type": "stream",
     "text": [
      "Enter the string: Faisal Ansari\n",
      "Enter the pattern for checking the order: An\n",
      "The order of pattern is correct\n"
     ]
    }
   ],
   "source": [
    "#Ans6:\n",
    "from collections import OrderedDict\n",
    "def check_order(my_input, my_pattern):\n",
    "    my_input=input(\"Enter the string: \")\n",
    "    my_pattern=input(\"Enter the pattern for checking the order: \")\n",
    "    my_dict = OrderedDict.fromkeys(my_input)\n",
    "    pattern_length = 0\n",
    "    for key,value in my_dict.items():\n",
    "        if (key == my_pattern[pattern_length]):\n",
    "            pattern_length = pattern_length + 1\n",
    "            if (pattern_length == (len(my_pattern))):\n",
    "                return 'The order of pattern is correct'\n",
    "    return 'The order of pattern is incorrect'\n",
    "        \n",
    "\n",
    "\n",
    "print(check_order(my_input,my_pattern))"
   ]
  },
  {
   "cell_type": "code",
   "execution_count": null,
   "id": "da37d69a",
   "metadata": {},
   "outputs": [],
   "source": [
    "Q7:\n",
    "Write a Python program to sort Python Dictionaries by Key or Value?"
   ]
  },
  {
   "cell_type": "code",
   "execution_count": 22,
   "id": "6e75bda8",
   "metadata": {},
   "outputs": [
    {
     "name": "stdout",
     "output_type": "stream",
     "text": [
      "{'course': 'Datascience', 'institute': 'Ineuron', 'name': 'Faisal', 'platform': 'onine'}\n",
      "{'course': 'Datascience', 'name': 'Faisal', 'institute': 'Ineuron', 'platform': 'onine'}\n"
     ]
    }
   ],
   "source": [
    "#Ans7:\n",
    "my_dict={'name':'Faisal', 'course':'Datascience', 'platform':'onine', 'institute':'Ineuron'}\n",
    "def sort_dict(in_dict,sort_by):\n",
    "    if sort_by == 'key':\n",
    "        print(dict(sorted(in_dict.items(), key=lambda x:x[0], reverse=False)))\n",
    "    else:\n",
    "        print(dict(sorted(in_dict.items(), key=lambda x:x[1], reverse=False)))\n",
    "        \n",
    "sort_dict(my_dict,'key')\n",
    "sort_dict(my_dict, 'value')"
   ]
  }
 ],
 "metadata": {
  "kernelspec": {
   "display_name": "Python 3 (ipykernel)",
   "language": "python",
   "name": "python3"
  },
  "language_info": {
   "codemirror_mode": {
    "name": "ipython",
    "version": 3
   },
   "file_extension": ".py",
   "mimetype": "text/x-python",
   "name": "python",
   "nbconvert_exporter": "python",
   "pygments_lexer": "ipython3",
   "version": "3.9.13"
  }
 },
 "nbformat": 4,
 "nbformat_minor": 5
}
