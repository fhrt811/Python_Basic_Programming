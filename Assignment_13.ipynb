{
 "cells": [
  {
   "cell_type": "code",
   "execution_count": null,
   "id": "8646f2af",
   "metadata": {},
   "outputs": [],
   "source": [
    "Q1:\n",
    "Write a program that calculates and prints the value according to the given formula:\n",
    "Q = Square root of [(2 * C * D)/H]\n",
    "Following are the fixed values of C and H:\n",
    "C is 50. H is 30.\n",
    "D is the variable whose values should be input to your program in a comma-separated sequence.\n",
    "Example: Let us assume the following comma separated input sequence is given to the program:100,150,180\n",
    "The output of the program should be: 18,22,24"
   ]
  },
  {
   "cell_type": "code",
   "execution_count": 2,
   "id": "21b4e42d",
   "metadata": {},
   "outputs": [
    {
     "name": "stdout",
     "output_type": "stream",
     "text": [
      "Enter a number: 100,250,150,180\n",
      "The output of the program is: 18,28,22,24\n"
     ]
    }
   ],
   "source": [
    "#Ans1:\n",
    "from math import sqrt\n",
    "def equate():\n",
    "    num=eval(input(\"Enter a number: \"))\n",
    "    output=[]\n",
    "    C,H=50,30\n",
    "    for i in num:\n",
    "        Q=str(int(sqrt((2*C*i)/H)))\n",
    "        output.append(Q)\n",
    "    print(f\"The output of the program is: {','.join(output)}\")\n",
    "    \n",
    "equate()"
   ]
  },
  {
   "cell_type": "code",
   "execution_count": null,
   "id": "6d7ce57b",
   "metadata": {},
   "outputs": [],
   "source": [
    "Q2:\n",
    "Write a program which takes 2 digits, X,Y as input and generates a 2-dimensional array. The element value in the i-th row\n",
    "and j-th column of the array should be i*j.\n",
    "Note: i=0,1.., X-1; j=0,1,¡Y-1.\n",
    "Example: Suppose the following inputs are given to the program: 3,5\n",
    "Then, the output of the program should be:[[0, 0, 0, 0, 0], [0, 1, 2, 3, 4], [0, 2, 4, 6, 8]]"
   ]
  },
  {
   "cell_type": "code",
   "execution_count": 3,
   "id": "adbc8daf",
   "metadata": {},
   "outputs": [
    {
     "name": "stdout",
     "output_type": "stream",
     "text": [
      "Enter the number of rows: 3\n",
      "Enter the number of columns: 5\n",
      "The output array is: [[0, 0, 0, 0, 0], [0, 1, 2, 3, 4], [0, 2, 4, 6, 8]]\n"
     ]
    }
   ],
   "source": [
    "#Ans2:\n",
    "def array_creation():\n",
    "    x=int(input(\"Enter the number of rows: \"))\n",
    "    y=int(input(\"Enter the number of columns: \"))\n",
    "    output=[]\n",
    "    for i in range(x):\n",
    "        output.insert(i,[])\n",
    "        for j in range(y):\n",
    "            output[i].append(i*j)\n",
    "    print(f\"The output array is: {output}\")\n",
    "array_creation()"
   ]
  },
  {
   "cell_type": "code",
   "execution_count": null,
   "id": "f38e6d14",
   "metadata": {},
   "outputs": [],
   "source": [
    "Q3:\n",
    "Write a program that accepts a comma separated sequence of words as input and prints the words in a comma-separated sequence\n",
    "after sorting them alphabetically ?\n",
    "Suppose the following input is supplied to the program: without,hello,bag,world\n",
    "Then, the output should be: bag,hello,without,world"
   ]
  },
  {
   "cell_type": "code",
   "execution_count": 4,
   "id": "62926621",
   "metadata": {},
   "outputs": [
    {
     "name": "stdout",
     "output_type": "stream",
     "text": [
      "Enter the string: The, black, dog, is, roaming, outside\n",
      "The sorted string is:  black, dog, is, outside, roaming,The\n"
     ]
    }
   ],
   "source": [
    "#Ans3:\n",
    "def sorting_items():\n",
    "    CSS=input(\"Enter the string: \")\n",
    "    sorted_string=','.join(sorted(CSS.split(',')))\n",
    "    print(f\"The sorted string is: {sorted_string}\")\n",
    "    \n",
    "sorting_items()"
   ]
  },
  {
   "cell_type": "code",
   "execution_count": null,
   "id": "ccbf1214",
   "metadata": {},
   "outputs": [],
   "source": [
    "Q4:\n",
    "Write a program that accepts a sequence of whitespace separated words as input and prints the words after removing all\n",
    "duplicate words and sorting them alphanumerically.\n",
    "Suppose the following input is supplied to the program: hello world and practice makes perfect and hello world again\n",
    "Then, the output should be: again and hello makes perfect practice world."
   ]
  },
  {
   "cell_type": "code",
   "execution_count": 26,
   "id": "d05c61bc",
   "metadata": {},
   "outputs": [
    {
     "name": "stdout",
     "output_type": "stream",
     "text": [
      "Enter a string: hello world and practice makes perfect and hello world again\n",
      "Output string: again and hello makes perfect practice world\n"
     ]
    }
   ],
   "source": [
    "#Ans4:\n",
    "def sort_unique_words():\n",
    "    input_string=input(\"Enter a string: \")\n",
    "    output=' '.join(sorted(list(set(input_string.split(\" \")))))\n",
    "    print(f\"Output string: {output}\")\n",
    "    \n",
    "sort_unique_words()"
   ]
  },
  {
   "cell_type": "code",
   "execution_count": null,
   "id": "de91c6e0",
   "metadata": {},
   "outputs": [],
   "source": [
    "Q5:\n",
    "Write a program that accepts a sentence and calculate the number of letters and digits.\n",
    "Suppose the following input is supplied to the program: hello world! 123\n",
    "Then, the output should be:\n",
    "LETTERS 10\n",
    "DIGITS 3"
   ]
  },
  {
   "cell_type": "code",
   "execution_count": 33,
   "id": "133ba021",
   "metadata": {},
   "outputs": [
    {
     "name": "stdout",
     "output_type": "stream",
     "text": [
      "Enter any alphanumeric string: hello world! 123\n",
      "The numbers of letters and digits are: \n",
      "LETTERS 10 \n",
      "DIGITS 3\n"
     ]
    }
   ],
   "source": [
    "#Ans5:\n",
    "def char_count():\n",
    "    Letters = 0\n",
    "    Digits = 0\n",
    "    input_string=input(\"Enter any alphanumeric string: \")\n",
    "    for i in input_string:\n",
    "        if i.isalpha() == True:\n",
    "            Letters += 1\n",
    "        if i.isdigit() == True:\n",
    "            Digits += 1\n",
    "            \n",
    "    print(f\"The numbers of letters and digits are: \\nLETTERS {Letters} \\nDIGITS {Digits}\")\n",
    "    \n",
    "char_count()"
   ]
  },
  {
   "cell_type": "code",
   "execution_count": null,
   "id": "88259c31",
   "metadata": {},
   "outputs": [],
   "source": [
    "Q6:\n",
    "A website requires the users to input username and password to register. Write a program to check the validity of password\n",
    "input by users.\n",
    "Following are the criteria for checking the password:\n",
    "\n",
    "At least 1 letter between [a-z]\n",
    "At least 1 number between [0-9]\n",
    "At least 1 letter between [A-Z]\n",
    "At least 1 character from [$#@]\n",
    "Minimum length of transaction password: 6\n",
    "Maximum length of transaction password: 12\n",
    "Your program should accept a sequence of comma separated passwords and will check them according to the above criteria.\n",
    "Passwords that match the criteria are to be printed, each separated by a comma.\n",
    "\n",
    "Example:\n",
    "If the following passwords are given as input to the program: ABd1234@1,a F1#,2w3E*,2We3345\n",
    "Then, the output of the program should be:ABd1234@1"
   ]
  },
  {
   "cell_type": "code",
   "execution_count": 7,
   "id": "3d0b3124",
   "metadata": {},
   "outputs": [
    {
     "name": "stdout",
     "output_type": "stream",
     "text": [
      "Enter the passwords to check separated by comma: ABd1234@1,a F1#,2w3E*,2We3345\n",
      "ABd1234@1\n"
     ]
    }
   ],
   "source": [
    "#Ans6:\n",
    "import re\n",
    "def check_password():\n",
    "    password=input(\"Enter the passwords to check separated by comma: \")\n",
    "    check_pass=password.split(',')\n",
    "    for i in check_pass:\n",
    "        if ((len(i) <= 12) and (len(i) >= 6)):\n",
    "            if(bool(re.match('((?=.*\\d)(?=.*[a-z])(?=.*[A-Z])(?=.*[@#$]).{6,12})',i))==True):\n",
    "                print(i)\n",
    "                \n",
    "check_password()"
   ]
  }
 ],
 "metadata": {
  "kernelspec": {
   "display_name": "Python 3 (ipykernel)",
   "language": "python",
   "name": "python3"
  },
  "language_info": {
   "codemirror_mode": {
    "name": "ipython",
    "version": 3
   },
   "file_extension": ".py",
   "mimetype": "text/x-python",
   "name": "python",
   "nbconvert_exporter": "python",
   "pygments_lexer": "ipython3",
   "version": "3.9.13"
  }
 },
 "nbformat": 4,
 "nbformat_minor": 5
}
