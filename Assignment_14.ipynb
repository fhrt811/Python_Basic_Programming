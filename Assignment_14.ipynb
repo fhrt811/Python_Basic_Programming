{
 "cells": [
  {
   "cell_type": "code",
   "execution_count": null,
   "id": "150003f1",
   "metadata": {},
   "outputs": [],
   "source": [
    "Q1:\n",
    "Define a class with a generator which can iterate the numbers, which are divisible by 7, between a given range 0 and n.?"
   ]
  },
  {
   "cell_type": "code",
   "execution_count": 5,
   "id": "bdbe273e",
   "metadata": {},
   "outputs": [
    {
     "name": "stdout",
     "output_type": "stream",
     "text": [
      "Enter the value of n: 140\n",
      "0 7 14 21 28 35 42 49 56 63 70 77 84 91 98 105 112 119 126 133 "
     ]
    }
   ],
   "source": [
    "#Ans1:\n",
    "class generator:\n",
    "    def __init__(self,n):\n",
    "        self.n=n\n",
    "    def get_multiple_of_7(self):\n",
    "        for i in range(0,self.n):\n",
    "            if i%7==0:\n",
    "                yield i\n",
    "                \n",
    "n=int(input(\"Enter the value of n: \"))\n",
    "result=generator(n)\n",
    "for i in result.get_multiple_of_7():\n",
    "    print(i,end=' ')"
   ]
  },
  {
   "cell_type": "code",
   "execution_count": null,
   "id": "66f16a26",
   "metadata": {},
   "outputs": [],
   "source": [
    "Q2:\n",
    "Write a program to compute the frequency of the words from the input. The output should output after sorting the key\n",
    "alphanumerically.\n",
    "Suppose the following input is supplied to the program:\n",
    "New to Python or choosing between Python 2 and Python 3? Read Python 2 or Python 3.\n",
    "Then, the output should be:\n",
    "2:2 3.:1 3?:1 New:1 Python:5 Read:1 and:1 between:1 choosing:1 or:2 to:1"
   ]
  },
  {
   "cell_type": "code",
   "execution_count": 8,
   "id": "ea64b1bc",
   "metadata": {},
   "outputs": [
    {
     "name": "stdout",
     "output_type": "stream",
     "text": [
      "Enter your string: New to Python or choosing between Python 2 and Python 3? Read Python 2 or Python 3.\n",
      "2:2 3.:1 3?:1 New:1 Python:5 Read:1 and:1 between:1 choosing:1 or:2 to:1 "
     ]
    }
   ],
   "source": [
    "#Ans2:\n",
    "def check_freq():\n",
    "    my_string=input(\"Enter your string: \")\n",
    "    freq={}\n",
    "    for i in my_string.split(\" \"):\n",
    "        if (freq.get(i))==None:\n",
    "            freq[i]=1\n",
    "        else:\n",
    "            freq[i] +=1\n",
    "    for i in sorted(freq):\n",
    "        print(f\"{i}:{freq[i]}\", end= ' ')\n",
    "check_freq()"
   ]
  },
  {
   "cell_type": "code",
   "execution_count": null,
   "id": "26df8b8b",
   "metadata": {},
   "outputs": [],
   "source": [
    "Q3:\n",
    "Define a class Person and its two child classes: Male and Female. All classes have a method \"getGender\" which can print\n",
    "\"Male\" for Male class and \"Female\" for Female class.?"
   ]
  },
  {
   "cell_type": "code",
   "execution_count": 9,
   "id": "d4de0075",
   "metadata": {},
   "outputs": [
    {
     "name": "stdout",
     "output_type": "stream",
     "text": [
      "Male\n",
      "Female\n"
     ]
    }
   ],
   "source": [
    "#Ans3:\n",
    "class Person:\n",
    "    def getGender():\n",
    "        pass\n",
    "class Male(Person):\n",
    "    def getGender():\n",
    "        print(\"Male\")\n",
    "class Female(Person):\n",
    "    def getGender():\n",
    "        print(\"Female\")\n",
    "        \n",
    "Male.getGender()\n",
    "Female.getGender()"
   ]
  },
  {
   "cell_type": "code",
   "execution_count": null,
   "id": "7eabfad6",
   "metadata": {},
   "outputs": [],
   "source": [
    "Q4:\n",
    "Please write a program to generate all sentences where subject is in [\"I\", \"You\"] and verb is in [\"Play\", \"Love\"] and the\n",
    "object is in [\"Hockey\",\"Football\"]?"
   ]
  },
  {
   "cell_type": "code",
   "execution_count": 10,
   "id": "d1e7d7c1",
   "metadata": {},
   "outputs": [
    {
     "name": "stdout",
     "output_type": "stream",
     "text": [
      "I Play Hockey\n",
      "I Play Football\n",
      "I Love Hockey\n",
      "I Love Football\n",
      "You Play Hockey\n",
      "You Play Football\n",
      "You Love Hockey\n",
      "You Love Football\n"
     ]
    }
   ],
   "source": [
    "#Ans4:\n",
    "def sentence_generation():\n",
    "    subject=[\"I\", \"You\"]\n",
    "    verb=[\"Play\", \"Love\"]\n",
    "    obj=[\"Hockey\",\"Football\"]\n",
    "    for i in subject:\n",
    "        for j in verb:\n",
    "            for k in obj:\n",
    "                print(f\"{i} {j} {k}\")\n",
    "                \n",
    "sentence_generation()"
   ]
  },
  {
   "cell_type": "code",
   "execution_count": null,
   "id": "97e5edfd",
   "metadata": {},
   "outputs": [],
   "source": [
    "Q5:\n",
    "Please write a program to compress and decompress the string \"hello world!hello world!hello world!hello world!\"?"
   ]
  },
  {
   "cell_type": "code",
   "execution_count": 13,
   "id": "9ab7addb",
   "metadata": {},
   "outputs": [
    {
     "name": "stdout",
     "output_type": "stream",
     "text": [
      "hel2o world!hel2o world!hel2o world!hel2o world!\n",
      "hello world!hello world!hello world!hello world!\n"
     ]
    }
   ],
   "source": [
    "#Ans5:\n",
    "def compress(my_string):\n",
    "    output = my_string[0]\n",
    "    count = 1\n",
    "    for i in range(len(my_string)-1):\n",
    "        if my_string[i] == my_string[i+1]:\n",
    "            count +=1\n",
    "        else:\n",
    "            if count > 1:\n",
    "                output += str(count)\n",
    "            output += my_string[i+1]\n",
    "            count = 1\n",
    "    if count > 1:\n",
    "        output += str(count)            \n",
    "    print(output)\n",
    "\n",
    "\n",
    "def decompress(my_string):\n",
    "    output = ''\n",
    "    for i in range(len(my_string)):\n",
    "        if my_string[i].isdigit():\n",
    "            output += output[-1]*(int(my_string[i])-1)\n",
    "        else:\n",
    "            output += my_string[i]\n",
    "    print(output)\n",
    "    \n",
    "        \n",
    "compress(\"hello world!hello world!hello world!hello world!\")\n",
    "decompress(\"hel2o world!hel2o world!hel2o world!hel2o world!\")"
   ]
  },
  {
   "cell_type": "code",
   "execution_count": null,
   "id": "ff168f9e",
   "metadata": {},
   "outputs": [],
   "source": [
    "Q6:\n",
    "Please write a binary search function which searches an item in a sorted list. The function should return the index of\n",
    "element to be searched in the list?"
   ]
  },
  {
   "cell_type": "code",
   "execution_count": 14,
   "id": "05179628",
   "metadata": {},
   "outputs": [
    {
     "name": "stdout",
     "output_type": "stream",
     "text": [
      "4\n",
      "Input Element not in the list\n"
     ]
    }
   ],
   "source": [
    "#Ans6:\n",
    "sorted_list = [1,2,3,4,5,6,7,8,9,10]\n",
    "def binary_search(in_list,in_num):\n",
    "    low = 0\n",
    "    high = len(in_list)-1\n",
    "    while low <= high:\n",
    "        mid = high+low//2\n",
    "        if in_list[mid] < in_num:\n",
    "            low = mid+1\n",
    "        elif in_list[mid] > in_num:\n",
    "            high = mid-1\n",
    "        else:\n",
    "            return mid\n",
    "    else:\n",
    "        return 'Input Element not in the list'\n",
    "    \n",
    "print(binary_search(sorted_list,5))\n",
    "print(binary_search(sorted_list,50))"
   ]
  }
 ],
 "metadata": {
  "kernelspec": {
   "display_name": "Python 3 (ipykernel)",
   "language": "python",
   "name": "python3"
  },
  "language_info": {
   "codemirror_mode": {
    "name": "ipython",
    "version": 3
   },
   "file_extension": ".py",
   "mimetype": "text/x-python",
   "name": "python",
   "nbconvert_exporter": "python",
   "pygments_lexer": "ipython3",
   "version": "3.9.13"
  }
 },
 "nbformat": 4,
 "nbformat_minor": 5
}
