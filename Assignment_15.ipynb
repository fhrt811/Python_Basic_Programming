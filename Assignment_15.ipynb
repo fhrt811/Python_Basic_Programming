{
 "cells": [
  {
   "cell_type": "code",
   "execution_count": null,
   "id": "4aaff7a9",
   "metadata": {},
   "outputs": [],
   "source": [
    "Q1:\n",
    "Please write a program using generator to print the numbers which can be divisible by 5 and 7 between 0 and n in comma\n",
    "separated form while n is input by console ?\n",
    "Example:\n",
    "If the following n is given as input to the program: 100\n",
    "Then, the output of the program should be: 0,35,70"
   ]
  },
  {
   "cell_type": "code",
   "execution_count": 1,
   "id": "f270ef89",
   "metadata": {},
   "outputs": [
    {
     "name": "stdout",
     "output_type": "stream",
     "text": [
      "Enter the value of n: 100\n",
      "0,35,70,"
     ]
    }
   ],
   "source": [
    "#Ans1:\n",
    "def divisible_func():\n",
    "    n=int(input(\"Enter the value of n: \"))\n",
    "    for i in range(0,n+1):\n",
    "        if (i%5==0 and i%7==0):\n",
    "            yield i\n",
    "    \n",
    "for i in divisible_func():\n",
    "    print(i,end=',')"
   ]
  },
  {
   "cell_type": "code",
   "execution_count": null,
   "id": "4f2b1c72",
   "metadata": {},
   "outputs": [],
   "source": [
    "Q2:\n",
    "Please write a program using generator to print the even numbers between 0 and n in comma separated form while n is input \n",
    "by console ?\n",
    "Example:\n",
    "If the following n is given as input to the program: 10\n",
    "Then, the output of the program should be: 0,2,4,6,8,10"
   ]
  },
  {
   "cell_type": "code",
   "execution_count": 2,
   "id": "351de8cb",
   "metadata": {},
   "outputs": [
    {
     "name": "stdout",
     "output_type": "stream",
     "text": [
      "Enter the value of n: 20\n",
      "0,2,4,6,8,10,12,14,16,18,20,"
     ]
    }
   ],
   "source": [
    "#Ans2:\n",
    "def genEvenNumbers():\n",
    "    n=int(input(\"Enter the value of n: \"))\n",
    "    for ele in range(0,n+1):\n",
    "        if ele%2 == 0:\n",
    "            yield ele\n",
    "\n",
    "for ele in genEvenNumbers():\n",
    "    print(ele,end=',')"
   ]
  },
  {
   "cell_type": "code",
   "execution_count": null,
   "id": "6b723622",
   "metadata": {},
   "outputs": [],
   "source": [
    "Q3:\n",
    "The Fibonacci Sequence is computed based on the following formula below, Please write a program using list comprehension to\n",
    "print the Fibonacci Sequence in comma separated form with a given n input by console ?\n",
    "f(n)=0 if n=0 f(n)=1 if n=1 f(n)=f(n-1)+f(n-2) if n>1"
   ]
  },
  {
   "cell_type": "code",
   "execution_count": 7,
   "id": "f73ce35f",
   "metadata": {},
   "outputs": [
    {
     "name": "stdout",
     "output_type": "stream",
     "text": [
      "Enter the value of n: 20\n",
      "[0, 1, 1, 2, 3, 5, 8, 13, 21, 34, 55, 89, 144, 233, 377, 610, 987, 1597, 2584, 4181]\n"
     ]
    }
   ],
   "source": [
    "#Ans3:\n",
    "def getFibonaci(n):\n",
    "    if n == 0:\n",
    "        return 0\n",
    "    elif n == 1:\n",
    "        return 1\n",
    "    elif n<0:\n",
    "        return None\n",
    "    else:\n",
    "        return getFibonaci(n-1)+getFibonaci(n-2)\n",
    "    \n",
    "n=int(input(\"Enter the value of n: \"))\n",
    "print([getFibonaci(x) for x in range(n)])"
   ]
  },
  {
   "cell_type": "code",
   "execution_count": null,
   "id": "fc381515",
   "metadata": {},
   "outputs": [],
   "source": [
    "Q4:\n",
    "Assuming that we have some email addresses in the \"username@companyname.com\" format, please write program to print the user\n",
    "name of a given email address. Both user names and company names are composed of letters only?\n",
    "Example:\n",
    "If the following email address is given as input to the program: john@google.com\n",
    "Then, the output of the program should be: john"
   ]
  },
  {
   "cell_type": "code",
   "execution_count": 16,
   "id": "a7058667",
   "metadata": {},
   "outputs": [
    {
     "name": "stdout",
     "output_type": "stream",
     "text": [
      "Enter the emails for separating the names: sudhanshu@ineuron.ai\n",
      "sudhanshu\n",
      "Enter the emails for separating the names: krish@ineuron.ai\n",
      "krish\n"
     ]
    }
   ],
   "source": [
    "#Ans4:\n",
    "def fname():\n",
    "    email=input(\"Enter the emails for separating the names: \")\n",
    "    print((email.split('@'))[0])\n",
    "    \n",
    "for i in range(2):\n",
    "    fname()"
   ]
  },
  {
   "cell_type": "code",
   "execution_count": null,
   "id": "7c0836fa",
   "metadata": {},
   "outputs": [],
   "source": [
    "Q5:\n",
    "Define a class named Shape and its subclass Square. The Square class has an init function which takes a length as argument.\n",
    "Both classes have a area function which can print the area of the shape where Shape's area is 0 by default."
   ]
  },
  {
   "cell_type": "code",
   "execution_count": 34,
   "id": "87ded2f9",
   "metadata": {},
   "outputs": [
    {
     "name": "stdout",
     "output_type": "stream",
     "text": [
      "625\n"
     ]
    }
   ],
   "source": [
    "#Ans5:\n",
    "class Shape:\n",
    "    def area(self):\n",
    "        return 0\n",
    "class Square:\n",
    "    def __init__(self,length):\n",
    "        self.length=length\n",
    "    def area(self):\n",
    "        return ((self.length)**2)\n",
    "\n",
    "square=Square(25)\n",
    "print(square.area())"
   ]
  }
 ],
 "metadata": {
  "kernelspec": {
   "display_name": "Python 3 (ipykernel)",
   "language": "python",
   "name": "python3"
  },
  "language_info": {
   "codemirror_mode": {
    "name": "ipython",
    "version": 3
   },
   "file_extension": ".py",
   "mimetype": "text/x-python",
   "name": "python",
   "nbconvert_exporter": "python",
   "pygments_lexer": "ipython3",
   "version": "3.9.13"
  }
 },
 "nbformat": 4,
 "nbformat_minor": 5
}
