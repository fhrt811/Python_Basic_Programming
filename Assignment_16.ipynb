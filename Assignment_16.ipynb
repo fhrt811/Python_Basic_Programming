{
 "cells": [
  {
   "cell_type": "code",
   "execution_count": null,
   "id": "1d553242",
   "metadata": {},
   "outputs": [],
   "source": [
    "Q1:\n",
    "Write a function that stutters a word as if someone is struggling to read it. The first two letters are repeated twice with\n",
    "an ellipsis ... and space after each, and then the word is pronounced with a question mark ?\n",
    "Examples: stutter(\"incredible\") ➞ \"in... in... incredible?\"\n",
    "stutter(\"enthusiastic\") ➞ \"en... en... enthusiastic?\"\n",
    "stutter(\"outstanding\") ➞ \"ou... ou... outstanding?\"\n",
    "\n",
    "Hint :- Assume all input is in lower case and at least two characters long."
   ]
  },
  {
   "cell_type": "code",
   "execution_count": 1,
   "id": "fd027d74",
   "metadata": {},
   "outputs": [
    {
     "name": "stdout",
     "output_type": "stream",
     "text": [
      "Enter the Word :incredible\n",
      "incredible ➞ in... in... incredible?\n",
      "Enter the Word :enthusiastic\n",
      "enthusiastic ➞ en... en... enthusiastic?\n",
      "Enter the Word :outstanding\n",
      "outstanding ➞ ou... ou... outstanding?\n"
     ]
    }
   ],
   "source": [
    "#Ans1:\n",
    "def stutter_word():\n",
    "    string = input('Enter the Word :')\n",
    "    my_string = ((string[0:2]+'... ')*2)+ string  +'?'\n",
    "    print(f'{string} ➞ {my_string}')\n",
    "\n",
    "for i in range(3):\n",
    "    stutter_word()"
   ]
  },
  {
   "cell_type": "code",
   "execution_count": null,
   "id": "44d00abd",
   "metadata": {},
   "outputs": [],
   "source": [
    "Q2:\n",
    "Create a function that takes an angle in radians and returns the corresponding angle in degrees rounded to one decimal place?\n",
    "Examples: radians_to_degrees(1) ➞ 57.3\n",
    "radians_to_degrees(20) ➞ 1145.9\n",
    "radians_to_degrees(50) ➞ 2864.8"
   ]
  },
  {
   "cell_type": "code",
   "execution_count": 6,
   "id": "c6575e13",
   "metadata": {},
   "outputs": [
    {
     "name": "stdout",
     "output_type": "stream",
     "text": [
      "Enter angle in radian: 1\n",
      "radians_to_degrees(1) ➞ 57.3\n",
      "Enter angle in radian: 20\n",
      "radians_to_degrees(20) ➞ 1145.9\n",
      "Enter angle in radian: 60\n",
      "radians_to_degrees(60) ➞ 3437.7\n"
     ]
    }
   ],
   "source": [
    "#Ans2:\n",
    "import math\n",
    "def rad_2_deg():\n",
    "    radian=int(input(\"Enter angle in radian: \"))\n",
    "    degree=(180/math.pi)*radian\n",
    "    print(f\"radians_to_degrees({radian}) ➞ {degree:.1f}\")\n",
    "for x in range(3):\n",
    "    rad_2_deg()"
   ]
  },
  {
   "cell_type": "code",
   "execution_count": null,
   "id": "4a3ca24f",
   "metadata": {},
   "outputs": [],
   "source": [
    "Q3:\n",
    "In this challenge, establish if a given integer num is a Curzon number. If 1 plus 2 elevated to num is exactly divisible by\n",
    "1 plus 2 multiplied by num, then num is a Curzon number. Given a non-negative integer num, implement a function that returns\n",
    "True if num is a Curzon number, or False otherwise.\n",
    "Examples: is_curzon(5) ➞ True # 2 ** 5 + 1 = 33 # 2 * 5 + 1 = 11 # 33 is a multiple of 11 \n",
    "is_curzon(10) ➞ False # 2 ** 10 + 1 = 1025 # 2 * 10 + 1 = 21 # 1025 is not a multiple of 21 \n",
    "is_curzon(14) ➞ True # 2 ** 14 + 1 = 16385 # 2 * 14 + 1 = 29 # 16385 is a multiple of 29"
   ]
  },
  {
   "cell_type": "code",
   "execution_count": 11,
   "id": "84da04ff",
   "metadata": {},
   "outputs": [
    {
     "name": "stdout",
     "output_type": "stream",
     "text": [
      "is_curson(5) ➞ True #33 is a multiple of 11\n",
      "is_curson(10) ➞ False #1025 is not a multiple of 21\n",
      "is_curson(14) ➞ True #16385 is a multiple of 29\n"
     ]
    }
   ],
   "source": [
    "#Ans3:\n",
    "def is_curzon(n):\n",
    "    if (1+(2**n))%(1+(2*n))==0:\n",
    "        print(f\"is_curson({n}) ➞ True #{(1+(2**n))} is a multiple of {(1+(2*n))}\")\n",
    "    else:\n",
    "        print(f\"is_curson({n}) ➞ False #{(1+(2**n))} is not a multiple of {(1+(2*n))}\")\n",
    "        \n",
    "is_curzon(5)\n",
    "is_curzon(10)\n",
    "is_curzon(14)"
   ]
  },
  {
   "cell_type": "code",
   "execution_count": null,
   "id": "ec93c5d7",
   "metadata": {},
   "outputs": [],
   "source": [
    "Q4:\n",
    "Given the side length x find the area of a hexagon ?\n",
    "Examples: area_of_hexagon(1) ➞ 2.6\n",
    "area_of_hexagon(2) ➞ 10.4\n",
    "area_of_hexagon(3) ➞ 23.4"
   ]
  },
  {
   "cell_type": "code",
   "execution_count": 13,
   "id": "8f5578f3",
   "metadata": {},
   "outputs": [
    {
     "name": "stdout",
     "output_type": "stream",
     "text": [
      "area_of_hexagon(1) ➞ 2.6\n",
      "area_of_hexagon(2) ➞ 10.4\n",
      "area_of_hexagon(3) ➞ 23.4\n"
     ]
    }
   ],
   "source": [
    "#Ans4:\n",
    "def area_hexagon(x):\n",
    "    print(f\"area_of_hexagon({x}) ➞ {(((3**(3/2))/2)*(x**2)):.1f}\")\n",
    "    \n",
    "area_hexagon(1)\n",
    "area_hexagon(2)\n",
    "area_hexagon(3)"
   ]
  },
  {
   "cell_type": "code",
   "execution_count": null,
   "id": "0c64af37",
   "metadata": {},
   "outputs": [],
   "source": [
    "Q5:\n",
    "Create a function that returns a base-2 (binary) representation of a base-10 (decimal) string number. To convert is simple:\n",
    "((2) means base-2 and (10) means base-10) 010101001(2) = 1 + 8 + 32 + 128.\n",
    "Going from right to left, the value of the most right bit is 1, now from that every bit to the left will be x2 the value,\n",
    "value of an 8 bit binary numbers are (256, 128, 64, 32, 16, 8, 4, 2, 1).\n",
    "Examples:\n",
    "binary(1) ➞ \"1\" # 1* 1 = 1\n",
    "binary(5) ➞ \"101\" # 1 1 + 1 4 = 5\n",
    "binary(10) ➞ \"1010\" # 1 2 + 1 8 = 10"
   ]
  },
  {
   "cell_type": "code",
   "execution_count": 14,
   "id": "cc79f8f3",
   "metadata": {},
   "outputs": [
    {
     "name": "stdout",
     "output_type": "stream",
     "text": [
      "Enter a Number: 1\n",
      "Binary of 1 ➞ 1\n",
      "Enter a Number: 5\n",
      "Binary of 5 ➞ 101\n",
      "Enter a Number: 10\n",
      "Binary of 10 ➞ 1010\n"
     ]
    }
   ],
   "source": [
    "#Ans5:\n",
    "def getBinary():\n",
    "    in_num = int(input(\"Enter a Number: \"))\n",
    "    out_num = bin(in_num).replace('0b','') \n",
    "    print(f'Binary of {in_num} ➞ {out_num}')\n",
    "\n",
    "for x in range(3):\n",
    "    getBinary()"
   ]
  }
 ],
 "metadata": {
  "kernelspec": {
   "display_name": "Python 3 (ipykernel)",
   "language": "python",
   "name": "python3"
  },
  "language_info": {
   "codemirror_mode": {
    "name": "ipython",
    "version": 3
   },
   "file_extension": ".py",
   "mimetype": "text/x-python",
   "name": "python",
   "nbconvert_exporter": "python",
   "pygments_lexer": "ipython3",
   "version": "3.9.13"
  }
 },
 "nbformat": 4,
 "nbformat_minor": 5
}
