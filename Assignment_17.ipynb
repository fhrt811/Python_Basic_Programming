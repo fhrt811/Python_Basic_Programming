{
 "cells": [
  {
   "cell_type": "code",
   "execution_count": null,
   "id": "cfcc7de0",
   "metadata": {},
   "outputs": [],
   "source": [
    "Q1:\n",
    "Create a function that takes three arguments a, b, c and returns the sum of the numbers that are evenly divided by c from\n",
    "the range a, b inclusive ?\n",
    "Examples:\n",
    "evenly_divisible(1, 10, 20) ➞ 0 # No number between 1 and 10 can be evenly divided by 20.\n",
    "evenly_divisible(1, 10, 2) ➞ 30 # 2 + 4 + 6 + 8 + 10 = 30\n",
    "evenly_divisible(1, 10, 3) ➞ 18 # 3 + 6 + 9 = 18"
   ]
  },
  {
   "cell_type": "code",
   "execution_count": 2,
   "id": "c9971471",
   "metadata": {},
   "outputs": [
    {
     "name": "stdout",
     "output_type": "stream",
     "text": [
      "evenly_divisible(1,10,20) ➞ 0\n",
      "evenly_divisible(1,10,2) ➞ 30\n",
      "evenly_divisible(1,10,3) ➞ 18\n"
     ]
    }
   ],
   "source": [
    "#Ans1:\n",
    "def evenly_divisible(a,b,c):\n",
    "    sum=0\n",
    "    for i in range(a,b+1):\n",
    "        if i%c==0:\n",
    "            sum = sum+i\n",
    "    print(f\"evenly_divisible({a},{b},{c}) ➞ {sum}\")\n",
    "    \n",
    "evenly_divisible(1,10,20)\n",
    "evenly_divisible(1, 10, 2)\n",
    "evenly_divisible(1, 10, 3)"
   ]
  },
  {
   "cell_type": "code",
   "execution_count": null,
   "id": "9fee7ce9",
   "metadata": {},
   "outputs": [],
   "source": [
    "Q2:\n",
    "Create a function that returns True if a given inequality expression is correct and False otherwise ?\n",
    "Examples:\n",
    "correct_signs(\"3 < 7 < 11\") ➞ True\n",
    "correct_signs(\"13 > 44 > 33 > 1\") ➞ False\n",
    "correct_signs(\"1 < 2 < 6 < 9 > 3\") ➞ True"
   ]
  },
  {
   "cell_type": "code",
   "execution_count": 12,
   "id": "3c5851dc",
   "metadata": {},
   "outputs": [
    {
     "name": "stdout",
     "output_type": "stream",
     "text": [
      "Enter the inequality exression: 13 > 44 > 33 > 1\n",
      "correct_signs(13 > 44 > 33 > 1) ➞ False\n",
      "Enter the inequality exression: 13 > 44 > 33 > 1\n",
      "correct_signs(13 > 44 > 33 > 1) ➞ False\n",
      "Enter the inequality exression: 1 < 2 < 6 < 9 > 3\n",
      "correct_signs(1 < 2 < 6 < 9 > 3) ➞ True\n"
     ]
    }
   ],
   "source": [
    "#Ans2:\n",
    "def correct_signs():\n",
    "    n=input(\"Enter the inequality exression: \")\n",
    "    output=eval(n)\n",
    "    print(f\"correct_signs({n}) ➞ {output}\")\n",
    "    \n",
    "correct_signs()\n",
    "correct_signs()\n",
    "correct_signs()"
   ]
  },
  {
   "cell_type": "code",
   "execution_count": null,
   "id": "f7a994b2",
   "metadata": {},
   "outputs": [],
   "source": [
    "Q3:\n",
    "Create a function that replaces all the vowels in a string with a specified character ?\n",
    "Examples:\n",
    "replace_vowels(\"the aardvark\", \"#\") ➞ \"th# ##rdv#rk\"\n",
    "replace_vowels(\"minnie mouse\", \"?\") ➞ \"m?nn?? m??s?\"\n",
    "replace_vowels(\"shakespeare\", \"*\") ➞ \"sh*k*sp**r*\""
   ]
  },
  {
   "cell_type": "code",
   "execution_count": 16,
   "id": "86a60f73",
   "metadata": {},
   "outputs": [
    {
     "name": "stdout",
     "output_type": "stream",
     "text": [
      "Enter any string having vowels: the aardvark\n",
      "Enter replacement character: #\n",
      "replace_vowels(\"the aardvark\", \"#\") ➞ \"th# ##rdv#rk\"\n",
      "Enter any string having vowels: minnie mouse\n",
      "Enter replacement character: ?\n",
      "replace_vowels(\"minnie mouse\", \"?\") ➞ \"m?nn?? m??s?\"\n",
      "Enter any string having vowels: shakespeare\n",
      "Enter replacement character: *\n",
      "replace_vowels(\"shakespeare\", \"*\") ➞ \"sh*k*sp**r*\"\n"
     ]
    }
   ],
   "source": [
    "#Ans3:\n",
    "def replace_vowels():\n",
    "    vowels=['a','e','i','o','u', 'A', 'E', 'I', 'O', 'U'] \n",
    "    string=input(\"Enter any string having vowels: \")\n",
    "    string_copy=string\n",
    "    char=input(\"Enter replacement character: \")\n",
    "    for i in string:\n",
    "        if i in vowels:\n",
    "            string=string.replace(i,char)\n",
    "    print(f'replace_vowels(\"{string_copy}\", \"{char}\") ➞ \"{string}\"')\n",
    "replace_vowels()\n",
    "replace_vowels()\n",
    "replace_vowels()"
   ]
  },
  {
   "cell_type": "code",
   "execution_count": null,
   "id": "6dc4cadf",
   "metadata": {},
   "outputs": [],
   "source": [
    "Q4:\n",
    "Write a function that calculates the factorial of a number recursively.\n",
    "Examples\n",
    "factorial(5) ➞ 120\n",
    "\n",
    "factorial(3) ➞ 6\n",
    "\n",
    "factorial(1) ➞ 1\n",
    "\n",
    "factorial(0) ➞ 1"
   ]
  },
  {
   "cell_type": "code",
   "execution_count": 17,
   "id": "0ba7c3b9",
   "metadata": {},
   "outputs": [
    {
     "name": "stdout",
     "output_type": "stream",
     "text": [
      "factorial(5) ➞ 120\n",
      "factorial(3) ➞ 6\n",
      "factorial(1) ➞ 1\n",
      "factorial(0) ➞ 1\n"
     ]
    }
   ],
   "source": [
    "#Ans4:\n",
    "def factorial(n):\n",
    "    if n<0:\n",
    "        return None\n",
    "    elif n==0:\n",
    "        return 1\n",
    "    else:\n",
    "        return n* factorial(n-1)\n",
    "    \n",
    "print(f'factorial(5) ➞ {factorial(5)}')\n",
    "print(f'factorial(3) ➞ {factorial(3)}')\n",
    "print(f'factorial(1) ➞ {factorial(1)}')\n",
    "print(f'factorial(0) ➞ {factorial(0)}')"
   ]
  },
  {
   "cell_type": "code",
   "execution_count": null,
   "id": "f6b7b38d",
   "metadata": {},
   "outputs": [],
   "source": [
    "Q5:\n",
    "Hamming distance is the number of characters that differ between two strings ?\n",
    "To illustrate:\n",
    "String1: \"abcbba\"\n",
    "String2: \"abcbda\"\n",
    "Hamming Distance: 1 - \"b\" vs. \"d\" is the only difference.\n",
    "Create a function that computes the hamming distance between two strings.\n",
    "Examples:\n",
    "hamming_distance(\"abcde\", \"bcdef\") ➞ 5\n",
    "hamming_distance(\"abcde\", \"abcde\") ➞ 0\n",
    "hamming_distance(\"strong\", \"strung\") ➞ 1"
   ]
  },
  {
   "cell_type": "code",
   "execution_count": 18,
   "id": "bb6d39bd",
   "metadata": {},
   "outputs": [
    {
     "name": "stdout",
     "output_type": "stream",
     "text": [
      "Enter the String 1: abcde\n",
      "Enter the String 2: bcdef\n",
      "Hamning Distance (\"abcde\", \"bcdef\") ➞ 5\n",
      "Enter the String 1: abcde\n",
      "Enter the String 2: abcde\n",
      "Hamning Distance (\"abcde\", \"abcde\") ➞ 0\n",
      "Enter the String 1: strong\n",
      "Enter the String 2: strunger\n",
      "Both Strings Must be of Same Length\n"
     ]
    }
   ],
   "source": [
    "#Ans5:\n",
    "def hamming_distance():\n",
    "    string_1 = input('Enter the String 1: ')\n",
    "    string_2 = input('Enter the String 2: ')\n",
    "    if len(string_1) == len(string_2):\n",
    "        count = 0\n",
    "        for i in range(len(string_1)):\n",
    "            if string_1[i] != string_2[i]:\n",
    "                count = count+1\n",
    "        print(f'Hamning Distance (\"{string_1}\", \"{string_2}\") ➞ {count}')\n",
    "    else:\n",
    "        print('Both Strings Must be of Same Length')\n",
    "\n",
    "for x in range(3):\n",
    "    hamming_distance()"
   ]
  }
 ],
 "metadata": {
  "kernelspec": {
   "display_name": "Python 3 (ipykernel)",
   "language": "python",
   "name": "python3"
  },
  "language_info": {
   "codemirror_mode": {
    "name": "ipython",
    "version": 3
   },
   "file_extension": ".py",
   "mimetype": "text/x-python",
   "name": "python",
   "nbconvert_exporter": "python",
   "pygments_lexer": "ipython3",
   "version": "3.9.13"
  }
 },
 "nbformat": 4,
 "nbformat_minor": 5
}
