{
 "cells": [
  {
   "cell_type": "code",
   "execution_count": null,
   "id": "edcb3468",
   "metadata": {},
   "outputs": [],
   "source": [
    "Q1:\n",
    "Create a function that takes a string and returns a string in which each character is repeated once.\n",
    "Examples:\n",
    "double_char(\"String\") ➞ \"SSttrriinngg\"\n",
    "double_char(\"Hello World!\") ➞ \"HHeelllloo WWoorrlldd!!\"\n",
    "doublechar(\"1234!_\") ➞ \"11223344!!__\""
   ]
  },
  {
   "cell_type": "code",
   "execution_count": 1,
   "id": "c4a98db1",
   "metadata": {},
   "outputs": [
    {
     "name": "stdout",
     "output_type": "stream",
     "text": [
      "Enter a string: ineuron\n",
      "iinneeuurroonn\n",
      "Enter a string: Hello World!\n",
      "HHeelllloo  WWoorrlldd!!\n",
      "Enter a string: 1234!_\n",
      "11223344!!__\n"
     ]
    }
   ],
   "source": [
    "#Ans1\n",
    "def double_char():\n",
    "    output=''\n",
    "    string=input(\"Enter a string: \")\n",
    "    for i in string:\n",
    "        output=output+(i*2)\n",
    "    print(output)\n",
    "    \n",
    "for i in range(3):\n",
    "    double_char()"
   ]
  },
  {
   "cell_type": "code",
   "execution_count": null,
   "id": "efbbb37b",
   "metadata": {},
   "outputs": [],
   "source": [
    "Q2:\n",
    "Create a function that reverses a boolean value and returns the string \"boolean expected\" if another variable type is given.\n",
    "Examples:\n",
    "reverse(True) ➞ False\n",
    "reverse(False) ➞ True\n",
    "reverse(0) ➞ \"boolean expected\"\n",
    "reverse(None) ➞ \"boolean expected\""
   ]
  },
  {
   "cell_type": "code",
   "execution_count": 2,
   "id": "1c080030",
   "metadata": {},
   "outputs": [
    {
     "name": "stdout",
     "output_type": "stream",
     "text": [
      "reverse(True) ➞ False\n",
      "reverse(False) ➞ True\n",
      "reverse(0) ➞ boolean expected\n",
      "reverse(None) ➞ boolean expected\n"
     ]
    }
   ],
   "source": [
    "#Ans2:\n",
    "def reverse(value):\n",
    "    if type(value) == bool:\n",
    "        return not value\n",
    "    else:\n",
    "        return \"boolean expected\"\n",
    "    \n",
    "print(f'reverse(True) ➞ {reverse(True)}')\n",
    "print(f'reverse(False) ➞ {reverse(False)}')\n",
    "print(f'reverse(0) ➞ {reverse(0)}')\n",
    "print(f'reverse(None) ➞ {reverse(None)}')"
   ]
  },
  {
   "cell_type": "code",
   "execution_count": null,
   "id": "0a354786",
   "metadata": {},
   "outputs": [],
   "source": [
    "Q3:\n",
    "Create a function that returns the thickness (in meters) of a piece of paper after folding it n number of times.\n",
    "The paper starts off with a thickness of 0.5mm.\n",
    "Examples:\n",
    "num_layers(1) ➞ \"0.001m\" \n",
    "# Paper folded once is 1mm (equal to 0.001m) \n",
    "num_layers(4) ➞ \"0.008m\"\n",
    "# Paper folded 4 times is 8mm (equal to 0.008m) \n",
    "num_layers(21) ➞ \"1048.576m\"\n",
    "# Paper folded 21 times is 1048576mm (equal to 1048.576m)"
   ]
  },
  {
   "cell_type": "code",
   "execution_count": 8,
   "id": "50551e47",
   "metadata": {},
   "outputs": [
    {
     "name": "stdout",
     "output_type": "stream",
     "text": [
      "numlayers(1) ➞ 0.001m\n",
      "paper folded 1 times is 1mm (equal to 0.001m) \n",
      "numlayers(4) ➞ 0.008m\n",
      "paper folded 4 times is 8mm (equal to 0.008m) \n",
      "numlayers(21) ➞ 1048.576m\n",
      "paper folded 21 times is 1048576mm (equal to 1048.576m) \n"
     ]
    }
   ],
   "source": [
    "#Ans3:\n",
    "def num_layers(n):\n",
    "    print(f\"numlayers({n}) ➞ {(2**(n-1))*0.001}m\")\n",
    "    print(f\"paper folded {n} times is {2**(n-1)}mm (equal to {(2**(n-1))*0.001}m) \")\n",
    "    \n",
    "num_layers(1)\n",
    "num_layers(4)\n",
    "num_layers(21)"
   ]
  },
  {
   "cell_type": "code",
   "execution_count": null,
   "id": "08fd5f89",
   "metadata": {},
   "outputs": [],
   "source": [
    "Q4:\n",
    "Create a function that takes a single string as argument and returns an ordered list containing the indices of all capital letters in the string.\n",
    "Examples:\n",
    "index_of_caps(\"eDaBiT\") ➞ [1, 3, 5]\n",
    "index_of_caps(\"eQuINoX\") ➞ [1, 3, 4, 6]\n",
    "index_of_caps(\"determine\") ➞ []\n",
    "index_of_caps(\"STRIKE\") ➞ [0, 1, 2, 3, 4, 5]\n",
    "index_of_caps(\"sUn\") ➞ [1]"
   ]
  },
  {
   "cell_type": "code",
   "execution_count": 20,
   "id": "85836fe2",
   "metadata": {},
   "outputs": [
    {
     "name": "stdout",
     "output_type": "stream",
     "text": [
      "Enter a string having upper and lower case letters: eDaBiT\n",
      "[1, 3, 5]\n",
      "Enter a string having upper and lower case letters: eQuINoX\n",
      "[1, 3, 4, 6]\n",
      "Enter a string having upper and lower case letters: determine\n",
      "[]\n",
      "Enter a string having upper and lower case letters: STRIKE\n",
      "[0, 1, 2, 3, 4, 5]\n"
     ]
    }
   ],
   "source": [
    "#Ans4:\n",
    "def index_of_caps():\n",
    "    lst=[]\n",
    "    string=input(\"Enter a string having upper and lower case letters: \")\n",
    "    for i in string:\n",
    "        if i.isupper() == True:\n",
    "            lst.append(string.index(i))\n",
    "    print(lst)\n",
    "            \n",
    "index_of_caps()\n",
    "index_of_caps()\n",
    "index_of_caps()\n",
    "index_of_caps()"
   ]
  },
  {
   "cell_type": "code",
   "execution_count": null,
   "id": "70a3e4e3",
   "metadata": {},
   "outputs": [],
   "source": [
    "Q5:\n",
    "Using list comprehensions, create a function that finds all even numbers from 1 to the given number.\n",
    "Examples:\n",
    "find_even_nums(8) ➞ [2, 4, 6, 8]\n",
    "find_even_nums(4) ➞ [2, 4]\n",
    "find_even_nums(2) ➞ [2]"
   ]
  },
  {
   "cell_type": "code",
   "execution_count": 22,
   "id": "65b42e46",
   "metadata": {},
   "outputs": [
    {
     "name": "stdout",
     "output_type": "stream",
     "text": [
      "find_even_nums(8) ➞ [2, 4, 6, 8]\n",
      "find_even_nums(4) ➞ [2, 4]\n",
      "find_even_nums(2) ➞ [2]\n"
     ]
    }
   ],
   "source": [
    "#Ans5:\n",
    "def find_even_nums(num):\n",
    "    output = [i for i in range(1,num+1) if i%2 == 0]\n",
    "    print(f\"find_even_nums({num}) ➞ {output}\")\n",
    "    \n",
    "find_even_nums(8)\n",
    "find_even_nums(4)\n",
    "find_even_nums(2)"
   ]
  }
 ],
 "metadata": {
  "kernelspec": {
   "display_name": "Python 3 (ipykernel)",
   "language": "python",
   "name": "python3"
  },
  "language_info": {
   "codemirror_mode": {
    "name": "ipython",
    "version": 3
   },
   "file_extension": ".py",
   "mimetype": "text/x-python",
   "name": "python",
   "nbconvert_exporter": "python",
   "pygments_lexer": "ipython3",
   "version": "3.9.13"
  }
 },
 "nbformat": 4,
 "nbformat_minor": 5
}
