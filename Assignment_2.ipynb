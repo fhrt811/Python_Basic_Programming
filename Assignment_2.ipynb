{
 "cells": [
  {
   "cell_type": "code",
   "execution_count": null,
   "id": "b1c4a140",
   "metadata": {},
   "outputs": [],
   "source": [
    "Q1:\n",
    "Write a Python program to convert Kilometers to Miles ?"
   ]
  },
  {
   "cell_type": "code",
   "execution_count": 5,
   "id": "8a73912f",
   "metadata": {},
   "outputs": [
    {
     "name": "stdout",
     "output_type": "stream",
     "text": [
      "Enter the distance in Kilometer: 10\n",
      "The value of given distance in Kilometer is 10.0 and in Miles is 6.21\n"
     ]
    }
   ],
   "source": [
    "#Ans1:\n",
    "def Km2mile():\n",
    "    km=float(input(\"Enter the distance in Kilometer: \")) #Input the distance in kilometer\n",
    "    print(f\"The value of given distance in Kilometer is {km} and in Miles is {km*0.621}\") #one mile = 0.621 Km\n",
    "    \n",
    "Km2mile()"
   ]
  },
  {
   "cell_type": "code",
   "execution_count": null,
   "id": "128ed904",
   "metadata": {},
   "outputs": [],
   "source": [
    "Q2:\n",
    "Write a Python program to convert Celsius to Farenheit ?"
   ]
  },
  {
   "cell_type": "code",
   "execution_count": 7,
   "id": "c90a656c",
   "metadata": {},
   "outputs": [
    {
     "name": "stdout",
     "output_type": "stream",
     "text": [
      "Enter the temperature in Celsius: 36.5\n",
      "36.5 Degree Celsius is equal to 97.7 Degree Fahrenheit\n"
     ]
    }
   ],
   "source": [
    "#Ans2:\n",
    "def C2F_Temp():\n",
    "    Celsius=float(input(\"Enter the temperature in Celsius: \")) #put the temperature in celsius\n",
    "    Fahrenheit=(Celsius*(9/5)+32) #converting the temperature from celsius into fahrenheit\n",
    "    print(f\"{Celsius} Degree Celsius is equal to {Fahrenheit} Degree Fahrenheit\") #printing the result\n",
    "    \n",
    "C2F_Temp() #calling the function"
   ]
  },
  {
   "cell_type": "code",
   "execution_count": null,
   "id": "8143d1c6",
   "metadata": {},
   "outputs": [],
   "source": [
    "Q3:\n",
    "Write a Python program to display calender ?"
   ]
  },
  {
   "cell_type": "code",
   "execution_count": 9,
   "id": "18f3673c",
   "metadata": {},
   "outputs": [
    {
     "name": "stdout",
     "output_type": "stream",
     "text": [
      "Enter year: 1947\n",
      "                                  1947\n",
      "\n",
      "      January                   February                   March\n",
      "Mo Tu We Th Fr Sa Su      Mo Tu We Th Fr Sa Su      Mo Tu We Th Fr Sa Su\n",
      "       1  2  3  4  5                      1  2                      1  2\n",
      " 6  7  8  9 10 11 12       3  4  5  6  7  8  9       3  4  5  6  7  8  9\n",
      "13 14 15 16 17 18 19      10 11 12 13 14 15 16      10 11 12 13 14 15 16\n",
      "20 21 22 23 24 25 26      17 18 19 20 21 22 23      17 18 19 20 21 22 23\n",
      "27 28 29 30 31            24 25 26 27 28            24 25 26 27 28 29 30\n",
      "                                                    31\n",
      "\n",
      "       April                      May                       June\n",
      "Mo Tu We Th Fr Sa Su      Mo Tu We Th Fr Sa Su      Mo Tu We Th Fr Sa Su\n",
      "    1  2  3  4  5  6                1  2  3  4                         1\n",
      " 7  8  9 10 11 12 13       5  6  7  8  9 10 11       2  3  4  5  6  7  8\n",
      "14 15 16 17 18 19 20      12 13 14 15 16 17 18       9 10 11 12 13 14 15\n",
      "21 22 23 24 25 26 27      19 20 21 22 23 24 25      16 17 18 19 20 21 22\n",
      "28 29 30                  26 27 28 29 30 31         23 24 25 26 27 28 29\n",
      "                                                    30\n",
      "\n",
      "        July                     August                  September\n",
      "Mo Tu We Th Fr Sa Su      Mo Tu We Th Fr Sa Su      Mo Tu We Th Fr Sa Su\n",
      "    1  2  3  4  5  6                   1  2  3       1  2  3  4  5  6  7\n",
      " 7  8  9 10 11 12 13       4  5  6  7  8  9 10       8  9 10 11 12 13 14\n",
      "14 15 16 17 18 19 20      11 12 13 14 15 16 17      15 16 17 18 19 20 21\n",
      "21 22 23 24 25 26 27      18 19 20 21 22 23 24      22 23 24 25 26 27 28\n",
      "28 29 30 31               25 26 27 28 29 30 31      29 30\n",
      "\n",
      "      October                   November                  December\n",
      "Mo Tu We Th Fr Sa Su      Mo Tu We Th Fr Sa Su      Mo Tu We Th Fr Sa Su\n",
      "       1  2  3  4  5                      1  2       1  2  3  4  5  6  7\n",
      " 6  7  8  9 10 11 12       3  4  5  6  7  8  9       8  9 10 11 12 13 14\n",
      "13 14 15 16 17 18 19      10 11 12 13 14 15 16      15 16 17 18 19 20 21\n",
      "20 21 22 23 24 25 26      17 18 19 20 21 22 23      22 23 24 25 26 27 28\n",
      "27 28 29 30 31            24 25 26 27 28 29 30      29 30 31\n",
      "\n"
     ]
    }
   ],
   "source": [
    "#Ans3:\n",
    "import calendar #import the calendar \n",
    "def Calendar():\n",
    "    year=int(input(\"Enter year: \")) #select the year you want to display calendar of\n",
    "    print(calendar.calendar(year))\n",
    "    \n",
    "Calendar() #calling the function"
   ]
  },
  {
   "cell_type": "code",
   "execution_count": null,
   "id": "14a439ad",
   "metadata": {},
   "outputs": [],
   "source": [
    "Q4:\n",
    "Write a Python program to solve quadartic equation ?"
   ]
  },
  {
   "cell_type": "code",
   "execution_count": 10,
   "id": "035a19f8",
   "metadata": {},
   "outputs": [
    {
     "name": "stdout",
     "output_type": "stream",
     "text": [
      "Enter a: 4\n",
      "Enter b: 6\n",
      "Enter c: 3\n",
      "The solution are (-0.75-0.4330127018922193j) and (-0.75+0.4330127018922193j)\n"
     ]
    }
   ],
   "source": [
    "#Ans4:\n",
    "import cmath  #import complex math module\n",
    "a = float(input('Enter a: '))\n",
    "b = float(input('Enter b: '))\n",
    "c = float(input('Enter c: '))\n",
    "\n",
    "d = (b**2) - (4*a*c) #calculate the discriminant\n",
    "\n",
    "# find two solutions\n",
    "sol1 = (-b-cmath.sqrt(d))/(2*a)\n",
    "sol2 = (-b+cmath.sqrt(d))/(2*a)\n",
    "print('The solution are {0} and {1}'.format(sol1,sol2))"
   ]
  },
  {
   "cell_type": "code",
   "execution_count": null,
   "id": "ec04750f",
   "metadata": {},
   "outputs": [],
   "source": [
    "Q5:\n",
    "Write a Python program to swap two variables without temp variable ?"
   ]
  },
  {
   "cell_type": "code",
   "execution_count": 12,
   "id": "3bed78f8",
   "metadata": {},
   "outputs": [
    {
     "name": "stdout",
     "output_type": "stream",
     "text": [
      "Enter first number: 10\n",
      "Enter second number: 20\n",
      "Numbers before swapping: 10,20\n",
      "Numbers after swapping: 20,10\n"
     ]
    }
   ],
   "source": [
    "#Ans5:\n",
    "def SwapNum():\n",
    "    num1=int(input(\"Enter first number: \"))\n",
    "    num2=int(input(\"Enter second number: \"))\n",
    "    \n",
    "    print(f\"Numbers before swapping: {num1},{num2}\")\n",
    "    num1=num1+num2\n",
    "    num2=num1-num2\n",
    "    num1=num1-num2\n",
    "    print(f\"Numbers after swapping: {num1},{num2}\")\n",
    "    \n",
    "SwapNum()"
   ]
  }
 ],
 "metadata": {
  "kernelspec": {
   "display_name": "Python 3 (ipykernel)",
   "language": "python",
   "name": "python3"
  },
  "language_info": {
   "codemirror_mode": {
    "name": "ipython",
    "version": 3
   },
   "file_extension": ".py",
   "mimetype": "text/x-python",
   "name": "python",
   "nbconvert_exporter": "python",
   "pygments_lexer": "ipython3",
   "version": "3.9.13"
  }
 },
 "nbformat": 4,
 "nbformat_minor": 5
}
