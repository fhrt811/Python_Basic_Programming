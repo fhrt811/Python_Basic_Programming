{
 "cells": [
  {
   "cell_type": "code",
   "execution_count": null,
   "id": "210945b8",
   "metadata": {},
   "outputs": [],
   "source": [
    "Q1:\n",
    "Create a function that takes a number as an argument and returns True or False depending on whether the number is\n",
    "symmetrical or not. A number is symmetrical when it is the same as its reverse.\n",
    "Examples:\n",
    "is_symmetrical(7227) ➞ True\n",
    "is_symmetrical(12567) ➞ False\n",
    "is_symmetrical(44444444) ➞ True\n",
    "is_symmetrical(9939) ➞ False\n",
    "is_symmetrical(1112111) ➞ True"
   ]
  },
  {
   "cell_type": "code",
   "execution_count": 2,
   "id": "65b5b93e",
   "metadata": {},
   "outputs": [
    {
     "name": "stdout",
     "output_type": "stream",
     "text": [
      "is_symmetrical(7227) ➞ True\n",
      "is_symmetrical(12567) ➞ False\n",
      "is_symmetrical(44444444) ➞ True\n",
      "is_symmetrical(9939) ➞ False\n",
      "is_symmetrical(1112111) ➞ True\n"
     ]
    }
   ],
   "source": [
    "#Ans1:\n",
    "def is_symmetrical(num):\n",
    "    if (str(num)) == (str(num)[::-1]):\n",
    "        print(f\"is_symmetrical({num}) ➞ {True}\")\n",
    "    else:\n",
    "        print(f\"is_symmetrical({num}) ➞ {False}\")\n",
    "        \n",
    "is_symmetrical(7227)\n",
    "is_symmetrical(12567)\n",
    "is_symmetrical(44444444)\n",
    "is_symmetrical(9939)\n",
    "is_symmetrical(1112111)"
   ]
  },
  {
   "cell_type": "code",
   "execution_count": null,
   "id": "41c6345e",
   "metadata": {},
   "outputs": [],
   "source": [
    "Q2:\n",
    "Given a string of numbers separated by a comma and space, return the product of the numbers.\n",
    "Examples:\n",
    "multiply_nums(\"2, 3\") ➞ 6\n",
    "multiply_nums(\"1, 2, 3, 4\") ➞ 24\n",
    "multiply_nums(\"54, 75, 453, 0\") ➞ 0\n",
    "multiply_nums(\"10, -2\") ➞ -20"
   ]
  },
  {
   "cell_type": "code",
   "execution_count": 6,
   "id": "69cc259c",
   "metadata": {},
   "outputs": [
    {
     "name": "stdout",
     "output_type": "stream",
     "text": [
      "2, 3 ➞ 6\n",
      "1, 2, 3, 4 ➞ 24\n",
      "54, 75, 453, 0 ➞ 0\n",
      "10, -2 ➞ -20\n"
     ]
    }
   ],
   "source": [
    "#Ans2:\n",
    "def multiply_nums(string):\n",
    "    output = string.replace(' ','').split(',')\n",
    "    out_num = 1\n",
    "    for i in output:\n",
    "        out_num *= int(i)\n",
    "    print(f'{string} ➞ {out_num}')\n",
    "    \n",
    "multiply_nums(\"2, 3\")\n",
    "multiply_nums(\"1, 2, 3, 4\")\n",
    "multiply_nums(\"54, 75, 453, 0\")\n",
    "multiply_nums(\"10, -2\")"
   ]
  },
  {
   "cell_type": "code",
   "execution_count": null,
   "id": "cc92ef5c",
   "metadata": {},
   "outputs": [],
   "source": [
    "Q3:\n",
    "Create a function that squares every digit of a number.\n",
    "Examples:\n",
    "square_digits(9119) ➞ 811181\n",
    "square_digits(2483) ➞ 416649\n",
    "square_digits(3212) ➞ 9414\n",
    "\n",
    "Notes:\n",
    "The function receives an integer and must return an integer."
   ]
  },
  {
   "cell_type": "code",
   "execution_count": 8,
   "id": "a301df95",
   "metadata": {},
   "outputs": [
    {
     "name": "stdout",
     "output_type": "stream",
     "text": [
      "9119 ➞ 811181\n",
      "2483 ➞ 416649\n",
      "3212 ➞ 9414\n"
     ]
    }
   ],
   "source": [
    "#Ans3:\n",
    "def square_digits(in_num):\n",
    "    in_list = [str(int(ele)**2) for ele in str(in_num)]\n",
    "    out_list = ''.join(in_list)\n",
    "    print(f'{in_num} ➞ {int(out_list)}')\n",
    "\n",
    "square_digits(9119)\n",
    "square_digits(2483)\n",
    "square_digits(3212)"
   ]
  },
  {
   "cell_type": "code",
   "execution_count": null,
   "id": "7535c028",
   "metadata": {},
   "outputs": [],
   "source": [
    "Q4:\n",
    "Create a function that sorts a list and removes all duplicate items from it.\n",
    "Examples:\n",
    "setify([1, 3, 3, 5, 5]) ➞ [1, 3, 5]\n",
    "setify([4, 4, 4, 4]) ➞ [4]\n",
    "setify([5, 7, 8, 9, 10, 15]) ➞ [5, 7, 8, 9, 10, 15]\n",
    "setify([3, 3, 3, 2, 1]) ➞ [1, 2, 3]"
   ]
  },
  {
   "cell_type": "code",
   "execution_count": 9,
   "id": "bb52d126",
   "metadata": {},
   "outputs": [
    {
     "name": "stdout",
     "output_type": "stream",
     "text": [
      "[1, 3, 3, 5, 5] ➞ [1, 3, 5]\n",
      "[4, 4, 4, 4] ➞ [4]\n",
      "[5, 7, 8, 9, 10, 15] ➞ [5, 7, 8, 9, 10, 15]\n",
      "[3, 3, 3, 2, 1] ➞ [1, 2, 3]\n"
     ]
    }
   ],
   "source": [
    "#Ans4:\n",
    "def setify(in_list):\n",
    "    out_list = sorted(set(in_list))\n",
    "    print(f'{in_list} ➞ {out_list}')\n",
    "    \n",
    "setify([1, 3, 3, 5, 5]) \n",
    "setify([4, 4, 4, 4])\n",
    "setify([5, 7, 8, 9, 10, 15])\n",
    "setify([3, 3, 3, 2, 1])"
   ]
  },
  {
   "cell_type": "code",
   "execution_count": null,
   "id": "c43682cd",
   "metadata": {},
   "outputs": [],
   "source": [
    "Q5:\n",
    "Create a function that returns the mean of all digits.\n",
    "Examples:\n",
    "mean(42) ➞ 3\n",
    "mean(12345) ➞ 3\n",
    "mean(666) ➞ 6\n",
    "\n",
    "Notes:\n",
    "1.The mean of all digits is the sum of digits / how many digits there are (e.g. mean of digits in 512 is \n",
    "(5+1+2)/3(number of digits) = 8/3=2).\n",
    "2.The mean will always be an integer."
   ]
  },
  {
   "cell_type": "code",
   "execution_count": 12,
   "id": "06747dd1",
   "metadata": {},
   "outputs": [
    {
     "name": "stdout",
     "output_type": "stream",
     "text": [
      "Mean of 42  ➞ 3\n",
      "Mean of 12345  ➞ 3\n",
      "Mean of 666  ➞ 6\n"
     ]
    }
   ],
   "source": [
    "#Ans5:\n",
    "\n",
    "def mean(in_num):\n",
    "    in_list = [int(ele) for ele in str(in_num)]\n",
    "    out_num = sum(in_list)/len(str(in_num))\n",
    "    print(f'Mean of {in_num}  ➞ {out_num:.0f}')\n",
    "    \n",
    "mean(42)\n",
    "mean(12345)\n",
    "mean(666)"
   ]
  }
 ],
 "metadata": {
  "kernelspec": {
   "display_name": "Python 3 (ipykernel)",
   "language": "python",
   "name": "python3"
  },
  "language_info": {
   "codemirror_mode": {
    "name": "ipython",
    "version": 3
   },
   "file_extension": ".py",
   "mimetype": "text/x-python",
   "name": "python",
   "nbconvert_exporter": "python",
   "pygments_lexer": "ipython3",
   "version": "3.9.13"
  }
 },
 "nbformat": 4,
 "nbformat_minor": 5
}
