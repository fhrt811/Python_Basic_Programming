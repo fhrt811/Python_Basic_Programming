{
 "cells": [
  {
   "cell_type": "code",
   "execution_count": null,
   "id": "9e7d7fde",
   "metadata": {},
   "outputs": [],
   "source": [
    "Q1:\n",
    "Create a function that takes an integer and returns a list from 1 to the given number, where:\n",
    "1.If the number can be divided evenly by 4, amplify it by 10 (i.e. return 10 times the number).\n",
    "2.If the number cannot be divided evenly by 4, simply return the number.\n",
    "\n",
    "Examples:\n",
    "amplify(4) ➞ [1, 2, 3, 40]\n",
    "amplify(3) ➞ [1, 2, 3]\n",
    "amplify(25) ➞ [1, 2, 3, 40, 5, 6, 7, 80, 9, 10, 11, 120, 13, 14, 15, 160, 17, 18, 19, 200, 21, 22, 23, 240, 25]\n",
    "\n",
    "Notes:\n",
    "1.The given integer will always be equal to or greater than 1.\n",
    "2.Include the number (see example above).\n",
    "3.To perform this problem with its intended purpose, try doing it with list"
   ]
  },
  {
   "cell_type": "code",
   "execution_count": 1,
   "id": "0a366fac",
   "metadata": {},
   "outputs": [
    {
     "name": "stdout",
     "output_type": "stream",
     "text": [
      "4 ➞ [1, 2, 3, 40]\n",
      "3 ➞ [1, 2, 3]\n",
      "25 ➞ [1, 2, 3, 40, 5, 6, 7, 80, 9, 10, 11, 120, 13, 14, 15, 160, 17, 18, 19, 200, 21, 22, 23, 240, 25]\n"
     ]
    }
   ],
   "source": [
    "#Ans1:\n",
    "def amplify(in_num):\n",
    "    out_list = []\n",
    "    for ele in range(1,in_num+1):\n",
    "        if ele%4 == 0:\n",
    "            out_list.append(ele*10)\n",
    "        else:\n",
    "            out_list.append(ele)\n",
    "    print(f'{in_num} ➞ {out_list}')\n",
    "            \n",
    "amplify(4)\n",
    "amplify(3)\n",
    "amplify(25)"
   ]
  },
  {
   "cell_type": "code",
   "execution_count": null,
   "id": "2d1f8833",
   "metadata": {},
   "outputs": [],
   "source": [
    "Q2:\n",
    "Create a function that takes a list of numbers and return the number that's unique.\n",
    "Examples:\n",
    "unique([3, 3, 3, 7, 3, 3]) ➞ 7\n",
    "unique([0, 0, 0.77, 0, 0]) ➞ 0.77\n",
    "unique([0, 1, 1, 1, 1, 1, 1, 1]) ➞ 0\n",
    "\n",
    "Notes:\n",
    "Test cases will always have exactly one unique number while all others are the same."
   ]
  },
  {
   "cell_type": "code",
   "execution_count": 14,
   "id": "c89b522f",
   "metadata": {},
   "outputs": [
    {
     "name": "stdout",
     "output_type": "stream",
     "text": [
      "unique([3, 3, 3, 7, 3, 3]) ➞ 7\n",
      "unique([0, 0, 0.77, 0, 0]) ➞ 0.77\n",
      "unique([0, 1, 1, 1, 1, 1, 1, 1]) ➞ 0\n"
     ]
    }
   ],
   "source": [
    "#Ans2:\n",
    "def unique(lst):\n",
    "    for i in lst:\n",
    "        if lst.count(i) == 1:\n",
    "            print(f'unique({lst}) ➞ {i}')\n",
    "    \n",
    "unique([3, 3, 3, 7, 3, 3])\n",
    "unique([0, 0, 0.77, 0, 0])\n",
    "unique([0, 1, 1, 1, 1, 1, 1, 1])"
   ]
  },
  {
   "cell_type": "code",
   "execution_count": null,
   "id": "f20f5b6a",
   "metadata": {},
   "outputs": [],
   "source": [
    "Q3:\n",
    "Your task is to create a Circle constructor that creates a circle with a radius provided by an argument.\n",
    "The circles constructed must have two getters getArea() (PIr^2) and getPerimeter() (2PI*r) which give both respective areas\n",
    "and perimeter (circumference). For help with this class, I have provided you with a Rectangle constructor which you can use\n",
    "as a base example ?\n",
    "Examples:\n",
    "circy = Circle(11)\n",
    "circy.getArea()\n",
    "# Should return 380.132711084365 circy = Circle(4.44)\n",
    "circy.getPerimeter()\n",
    "# Should return 27.897342763877365\n",
    "\n",
    "Notes:\n",
    "Round results up to the nearest integer."
   ]
  },
  {
   "cell_type": "code",
   "execution_count": 18,
   "id": "cb71e1a5",
   "metadata": {},
   "outputs": [
    {
     "name": "stdout",
     "output_type": "stream",
     "text": [
      "Area = 380.132711084365\n",
      "Perimeter = 27.897342763877365\n"
     ]
    }
   ],
   "source": [
    "#Ans3:\n",
    "import math\n",
    "class Circle:\n",
    "    def __init__(self,radius):\n",
    "        self.radius=radius\n",
    "    def getArea(self):\n",
    "        print(f\"Area = {math.pi*(self.radius**2)}\")\n",
    "    def getPerimeter(self):\n",
    "        print(f\"Perimeter = {2*math.pi*self.radius}\")\n",
    "        \n",
    "circy=Circle(11)\n",
    "circy.getArea()\n",
    "\n",
    "circy=Circle(4.44)\n",
    "circy.getPerimeter()"
   ]
  },
  {
   "cell_type": "code",
   "execution_count": null,
   "id": "500eaa0f",
   "metadata": {},
   "outputs": [],
   "source": [
    "Q4:\n",
    "Create a function that takes a list of strings and return a list, sorted from shortest to longest.\n",
    "Examples:\n",
    "sort_by_length([\"Google\", \"Apple\", \"Microsoft\"])\n",
    "➞ [\"Apple\", \"Google\", \"Microsoft\"]\n",
    "sort_by_length([\"Leonardo\", \"Michelangelo\", \"Raphael\", \"Donatello\"])\n",
    "➞ [\"Raphael\", \"Leonardo\", \"Donatello\", \"Michelangelo\"]\n",
    "sort_by_length([\"Turing\", \"Einstein\", \"Jung\"])\n",
    "➞ [\"Jung\", \"Turing\", \"Einstein\"]\n",
    "\n",
    "Notes:\n",
    "All test cases contain lists with strings of different lengths, so you won't have to deal with multiple strings of the same\n",
    "length."
   ]
  },
  {
   "cell_type": "code",
   "execution_count": 23,
   "id": "ce2eef16",
   "metadata": {},
   "outputs": [
    {
     "name": "stdout",
     "output_type": "stream",
     "text": [
      "['Apple', 'Google', 'Microsoft']\n",
      "['Raphael', 'Leonardo', 'Donatello', 'Michelangelo']\n",
      "['Jung', 'Turing', 'Einstein']\n"
     ]
    }
   ],
   "source": [
    "#Ans4:\n",
    "def sort_by_length(lst):\n",
    "    print(sorted(lst,key=len))\n",
    "    \n",
    "sort_by_length([\"Google\", \"Apple\", \"Microsoft\"])\n",
    "sort_by_length([\"Leonardo\", \"Michelangelo\", \"Raphael\", \"Donatello\"])\n",
    "sort_by_length([\"Turing\", \"Einstein\", \"Jung\"])"
   ]
  },
  {
   "cell_type": "code",
   "execution_count": null,
   "id": "f3ed488e",
   "metadata": {},
   "outputs": [],
   "source": [
    "Q5:\n",
    "Create a function that validates whether three given integers form a Pythagorean triplet. The sum of the squares of the two\n",
    "smallest integers must equal the square of the largest number to be validated.\n",
    "Examples:\n",
    "is_triplet(3, 4, 5) ➞ True \n",
    "# 3² + 4² = 25 \n",
    "# 5² = 25 \n",
    "is_triplet(13, 5, 12) ➞ True \n",
    "# 5² + 12² = 169 \n",
    "# 13² = 169 \n",
    "is_triplet(1, 2, 3) ➞ False \n",
    "# 1² + 2² = 5 \n",
    "# 3² = 9\n",
    "\n",
    "Notes: Numbers may not be given in a sorted order."
   ]
  },
  {
   "cell_type": "code",
   "execution_count": 25,
   "id": "6188e50b",
   "metadata": {},
   "outputs": [
    {
     "name": "stdout",
     "output_type": "stream",
     "text": [
      "is_triplet(3,4,5) ➞ True\n",
      "is_triplet(13,5,12) ➞ True\n",
      "is_triplet(1,2,3) ➞ False\n"
     ]
    }
   ],
   "source": [
    "#Ans5:\n",
    "def is_triplet(a,b,c):\n",
    "    if (a**2+b**2==c**2) or (a**2+c**2==b**2) or (c**2+b**2==a**2):\n",
    "        print(f\"is_triplet({a},{b},{c}) ➞ {True}\")\n",
    "    else:\n",
    "        print(f\"is_triplet({a},{b},{c}) ➞ {False}\")\n",
    "        \n",
    "is_triplet(3, 4, 5)\n",
    "is_triplet(13, 5, 12)\n",
    "is_triplet(1, 2, 3)"
   ]
  }
 ],
 "metadata": {
  "kernelspec": {
   "display_name": "Python 3 (ipykernel)",
   "language": "python",
   "name": "python3"
  },
  "language_info": {
   "codemirror_mode": {
    "name": "ipython",
    "version": 3
   },
   "file_extension": ".py",
   "mimetype": "text/x-python",
   "name": "python",
   "nbconvert_exporter": "python",
   "pygments_lexer": "ipython3",
   "version": "3.9.13"
  }
 },
 "nbformat": 4,
 "nbformat_minor": 5
}
