{
 "cells": [
  {
   "cell_type": "code",
   "execution_count": null,
   "id": "283585fc",
   "metadata": {},
   "outputs": [],
   "source": [
    "Q1:\n",
    "Write a Python Program to find the factorial of a number ?"
   ]
  },
  {
   "cell_type": "code",
   "execution_count": 6,
   "id": "f66b1318",
   "metadata": {},
   "outputs": [
    {
     "name": "stdout",
     "output_type": "stream",
     "text": [
      "Enter a number for calculating its factorial: 6\n",
      "The factorial of 6 is 720\n"
     ]
    }
   ],
   "source": [
    "#Ans1:\n",
    "def factorial(num): #defining the function\n",
    "    if num < 1:  #factoral of 0 and negative number is always 1\n",
    "        return 1\n",
    "    else:\n",
    "        return (num*factorial(num-1)) \n",
    "num = int(input(\"Enter a number for calculating its factorial: \")) #getting the input integer\n",
    "Fac = factorial(num) #calling the factorial function\n",
    "print(f\"The factorial of {num} is {Fac}\")"
   ]
  },
  {
   "cell_type": "code",
   "execution_count": null,
   "id": "659e69ac",
   "metadata": {},
   "outputs": [],
   "source": [
    "Q2:\n",
    "Write a Python Program to display the multiplication table ?"
   ]
  },
  {
   "cell_type": "code",
   "execution_count": 11,
   "id": "83f82dfc",
   "metadata": {},
   "outputs": [
    {
     "name": "stdout",
     "output_type": "stream",
     "text": [
      "Enter a number: 9\n",
      "Enter the number of required entry: 7\n",
      "9 x 1 = 9\n",
      "9 x 2 = 18\n",
      "9 x 3 = 27\n",
      "9 x 4 = 36\n",
      "9 x 5 = 45\n",
      "9 x 6 = 54\n",
      "9 x 7 = 63\n"
     ]
    }
   ],
   "source": [
    "#Ans2:\n",
    "def table(): #defining the table function\n",
    "    num = int(input(\"Enter a number: \")) #getting the input number\n",
    "    entry = int(input(\"Enter the number of required entry: \")) #getting the number of required entries\n",
    "    for i in range(1,entry+1): #looping\n",
    "        print(f\"{num} x {i} = {num*i}\") #printing the result\n",
    "        \n",
    "table()"
   ]
  },
  {
   "cell_type": "code",
   "execution_count": null,
   "id": "2e571034",
   "metadata": {},
   "outputs": [],
   "source": [
    "Q3:\n",
    "Write a Python Program to print the fibonacci sequence ?"
   ]
  },
  {
   "cell_type": "code",
   "execution_count": 43,
   "id": "f385ea0e",
   "metadata": {},
   "outputs": [
    {
     "name": "stdout",
     "output_type": "stream",
     "text": [
      "Enter the sequence number for the required series: 7\n",
      "The first 7 elements of fibonacci series are [0, 1, 1, 2, 3, 5, 8]\n"
     ]
    }
   ],
   "source": [
    "#Ans3:\n",
    "num = int(input(\"Enter the sequence number for the required series: \"))\n",
    "list=[0,1]\n",
    "if num < 0:\n",
    "    print(\"Fibonacci series is not valid for negative numbers\")\n",
    "    \n",
    "elif num >= 0 and num <= 2:\n",
    "    print(list)\n",
    "else:\n",
    "    for i in range(num):\n",
    "        if i >=2:\n",
    "            list.append(list[i-1]+list[i-2])\n",
    "    print(f\"The first {num} elements of fibonacci series are {list}\")"
   ]
  },
  {
   "cell_type": "code",
   "execution_count": null,
   "id": "a5a7584b",
   "metadata": {},
   "outputs": [],
   "source": [
    "Q4:\n",
    "Write a Python Program to check Armstrong number ?"
   ]
  },
  {
   "cell_type": "code",
   "execution_count": 50,
   "id": "b60ba0ef",
   "metadata": {},
   "outputs": [
    {
     "name": "stdout",
     "output_type": "stream",
     "text": [
      "Enter a number to check whether it is armstrong or not: 371\n",
      "371 is an armstrong number\n"
     ]
    }
   ],
   "source": [
    "#Ans4:\n",
    "def isarmstrong():\n",
    "    sum=0\n",
    "    num=input(\"Enter a number to check whether it is armstrong or not: \")\n",
    "    for i in range(len(num)):\n",
    "        sum = sum + (int(num[i]))**3\n",
    "    if sum == int(num):\n",
    "        print(f\"{num} is an armstrong number\")\n",
    "            \n",
    "    else:\n",
    "        print(f\"{num} is not an armstrong number\")\n",
    "            \n",
    "isarmstrong()"
   ]
  },
  {
   "cell_type": "code",
   "execution_count": null,
   "id": "1909ab53",
   "metadata": {},
   "outputs": [],
   "source": [
    "Q5:\n",
    "Write a Python Program to Find Armstrong number in an interval ?"
   ]
  },
  {
   "cell_type": "code",
   "execution_count": 60,
   "id": "9a4df660",
   "metadata": {},
   "outputs": [
    {
     "name": "stdout",
     "output_type": "stream",
     "text": [
      "Enter start of intrval100\n",
      "Enter end of intrval400\n",
      "The Armstrong number in the interval from 100 to 400 are ['153', '370', '371']\n"
     ]
    }
   ],
   "source": [
    "#Ans5:\n",
    "def armstrong_in_interval(num):\n",
    "    sum=0\n",
    "    for i in range(len(num)):\n",
    "        sum=sum+(int(num[i]))**3\n",
    "    if sum==int(num):\n",
    "        list_of_result.append(num)\n",
    "\n",
    "start_of_interval = int(input(\"Enter start of intrval\"))\n",
    "end_of_interval = int(input(\"Enter end of intrval\"))\n",
    "list_of_result = []\n",
    "\n",
    "if start_of_interval>end_of_interval:\n",
    "    print(\"start of interval cannot be greater than end of interval\")\n",
    "    \n",
    "else:\n",
    "    for number in range(start_of_interval,end_of_interval+1):\n",
    "        armstrong_in_interval(str(number))\n",
    "        \n",
    "    print(f\"The Armstrong number in the interval from {start_of_interval} to {end_of_interval} are {list_of_result}\")"
   ]
  },
  {
   "cell_type": "code",
   "execution_count": null,
   "id": "1dd21934",
   "metadata": {},
   "outputs": [],
   "source": [
    "Q6:\n",
    "Write a Python Program to sum of natural numbers ?"
   ]
  },
  {
   "cell_type": "code",
   "execution_count": 64,
   "id": "08b3b878",
   "metadata": {},
   "outputs": [
    {
     "name": "stdout",
     "output_type": "stream",
     "text": [
      "Enter a number to calculate sum67\n",
      "The sum of all the natural numbers from 0 to 67 is 2278\n"
     ]
    }
   ],
   "source": [
    "#Ans6:\n",
    "def sum_of_numbers(num):\n",
    "    sum=0\n",
    "    for i in range(num+1):\n",
    "        sum=sum+i\n",
    "    print(f\"The sum of all the natural numbers from 0 to {num} is {sum}\")\n",
    "    \n",
    "num=int(input(\"Enter a number to calculate sum\"))\n",
    "sum_of_numbers(num)"
   ]
  }
 ],
 "metadata": {
  "kernelspec": {
   "display_name": "Python 3 (ipykernel)",
   "language": "python",
   "name": "python3"
  },
  "language_info": {
   "codemirror_mode": {
    "name": "ipython",
    "version": 3
   },
   "file_extension": ".py",
   "mimetype": "text/x-python",
   "name": "python",
   "nbconvert_exporter": "python",
   "pygments_lexer": "ipython3",
   "version": "3.9.13"
  }
 },
 "nbformat": 4,
 "nbformat_minor": 5
}
