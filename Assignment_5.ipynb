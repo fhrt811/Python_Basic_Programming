{
 "cells": [
  {
   "cell_type": "code",
   "execution_count": null,
   "id": "c1ec81f6",
   "metadata": {},
   "outputs": [],
   "source": [
    "Q1:\n",
    "Write a Python Program to find LCM ?"
   ]
  },
  {
   "cell_type": "code",
   "execution_count": 2,
   "id": "f0e66177",
   "metadata": {},
   "outputs": [
    {
     "name": "stdout",
     "output_type": "stream",
     "text": [
      "The LCM of 10 and 45 is 90\n",
      "The LCM of 43 and 67 is 2881\n",
      "The LCM of 15 and 50 is 150\n"
     ]
    }
   ],
   "source": [
    "#Ans1:\n",
    "def lcm(x,y):\n",
    "    if x>y:\n",
    "        larger=x\n",
    "    else:\n",
    "        larger=y\n",
    "    while True:\n",
    "        if larger%x==0 and larger%y==0:\n",
    "            lcm=larger\n",
    "            break\n",
    "        else:\n",
    "            larger += 1\n",
    "    print(f\"The LCM of {x} and {y} is {lcm}\")\n",
    "    \n",
    "lcm(10,45)\n",
    "lcm(43,67)\n",
    "lcm(15,50)"
   ]
  },
  {
   "cell_type": "code",
   "execution_count": null,
   "id": "a1cc3e73",
   "metadata": {},
   "outputs": [],
   "source": [
    "Q2:\n",
    "Write a Python Program to find HCF ?"
   ]
  },
  {
   "cell_type": "code",
   "execution_count": 4,
   "id": "c89a0507",
   "metadata": {},
   "outputs": [
    {
     "name": "stdout",
     "output_type": "stream",
     "text": [
      "HCF of 25 and 30 is 5\n"
     ]
    }
   ],
   "source": [
    "#Ans2:\n",
    "def hcf(x,y):\n",
    "    if x>y:\n",
    "        smaller=y\n",
    "    else:\n",
    "        smaller=x\n",
    "    for i in range(1,smaller+1):\n",
    "        if ((x%i==0) and (y%i==0)):\n",
    "            hcf=i\n",
    "    print(f\"HCF of {x} and {y} is {hcf}\")\n",
    "                \n",
    "hcf(25,30)"
   ]
  },
  {
   "cell_type": "code",
   "execution_count": null,
   "id": "a1711ade",
   "metadata": {},
   "outputs": [],
   "source": [
    "Q3:\n",
    "Write a Python Program to Convert Decimal to Binary, Octal and Hexadecimal?"
   ]
  },
  {
   "cell_type": "code",
   "execution_count": 8,
   "id": "9fe18a37",
   "metadata": {},
   "outputs": [
    {
     "name": "stdout",
     "output_type": "stream",
     "text": [
      "Enter the number in Decimal form: 1100\n",
      "The binary number is: 0b10001001100\n",
      "The Octal number is: 0o2114\n",
      "The Hexadecimal number is: 0x44c\n"
     ]
    }
   ],
   "source": [
    "#Ans3:\n",
    "def num_base_conversion():\n",
    "    num=int(input(\"Enter the number in Decimal form: \"))\n",
    "    print(f\"The binary number is: {bin(num)}\")\n",
    "    print(f\"The Octal number is: {oct(num)}\")\n",
    "    print(f\"The Hexadecimal number is: {hex(num)}\")\n",
    "    \n",
    "num_base_conversion()"
   ]
  },
  {
   "cell_type": "code",
   "execution_count": null,
   "id": "32f078a5",
   "metadata": {},
   "outputs": [],
   "source": [
    "Q4:\n",
    "Write a Python Program to Find the ASCII value of a Character ?"
   ]
  },
  {
   "cell_type": "code",
   "execution_count": 10,
   "id": "549e2a60",
   "metadata": {},
   "outputs": [
    {
     "name": "stdout",
     "output_type": "stream",
     "text": [
      "Enter a characterr\n",
      "The ASCII value of r is 114\n"
     ]
    }
   ],
   "source": [
    "#Ans4:\n",
    "def ASC_Char():\n",
    "    char=input(\"Enter a character\")\n",
    "    if len(char) > 1:\n",
    "        print(\"Enter only single character\")\n",
    "    else:\n",
    "        print(f\"The ASCII value of {char} is {ord(char)}\")\n",
    "        \n",
    "ASC_Char()"
   ]
  },
  {
   "cell_type": "code",
   "execution_count": null,
   "id": "8c6e6d2e",
   "metadata": {},
   "outputs": [],
   "source": [
    "Q5:\n",
    "Write a Python Program to Make a Simple Calculator with 4 Basic Mathematical operations ?"
   ]
  },
  {
   "cell_type": "code",
   "execution_count": 26,
   "id": "514ade9d",
   "metadata": {},
   "outputs": [
    {
     "name": "stdout",
     "output_type": "stream",
     "text": [
      "Enter the first number15\n",
      "Enter the second number15\n",
      "\n",
      "Enter 1 for addition \n",
      "Enter 2 for Subtraction \n",
      "Enter 3 for division \n",
      "Enter 4 for multiplication \n",
      "Entered number is: 4\n",
      "Multiplication of two numbers is: 225\n"
     ]
    }
   ],
   "source": [
    "#Ans5:\n",
    "def calculator():\n",
    "    a=int(input(\"Enter the first number\"))\n",
    "    b=int(input(\"Enter the second number\"))\n",
    "    operation=int(input(\"\\nEnter 1 for addition \\nEnter 2 for Subtraction \\nEnter 3 for division \\nEnter 4 for multiplication \\nEntered number is: \"))\n",
    "    if operation not in [1, 2, 3, 4]:\n",
    "        print(\"Wrong input given, Choose from the given options only\")\n",
    "    elif operation == 1:\n",
    "        print(f\"Addition of two numbers is: {a+b}\")\n",
    "    elif operation == 2:\n",
    "        print(f\"Subtraction of two numbers is: {a-b}\")\n",
    "    elif operation == 3:\n",
    "        print(f\"Division of two numbers is: {a/b}\")\n",
    "    elif operation == 4:\n",
    "        print(f\"Multiplication of two numbers is: {a*b}\")\n",
    "    else:\n",
    "        print(\"Wrong operation done\")\n",
    "calculator()"
   ]
  }
 ],
 "metadata": {
  "kernelspec": {
   "display_name": "Python 3 (ipykernel)",
   "language": "python",
   "name": "python3"
  },
  "language_info": {
   "codemirror_mode": {
    "name": "ipython",
    "version": 3
   },
   "file_extension": ".py",
   "mimetype": "text/x-python",
   "name": "python",
   "nbconvert_exporter": "python",
   "pygments_lexer": "ipython3",
   "version": "3.9.13"
  }
 },
 "nbformat": 4,
 "nbformat_minor": 5
}
