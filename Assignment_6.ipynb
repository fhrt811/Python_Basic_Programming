{
 "cells": [
  {
   "cell_type": "code",
   "execution_count": null,
   "id": "ec543ca7",
   "metadata": {},
   "outputs": [],
   "source": [
    "Q1:\n",
    "Write a Python Program to Display Fibonacci Sequence using Recursion?"
   ]
  },
  {
   "cell_type": "code",
   "execution_count": 8,
   "id": "d61ea8bb",
   "metadata": {},
   "outputs": [
    {
     "name": "stdout",
     "output_type": "stream",
     "text": [
      "Enter number of required terms of fibonacci series: 10\n",
      "Fibonacci series:\n",
      "0, 1, 1, 2, 3, 5, 8, 13, 21, 34, "
     ]
    }
   ],
   "source": [
    "#Ans1:\n",
    "def recursive_fibonacci(n):\n",
    "    if n <= 1:\n",
    "        return n\n",
    "    else:\n",
    "        return(recursive_fibonacci(n-1) + recursive_fibonacci(n-2))\n",
    "\n",
    "n = int(input(\"Enter number of required terms of fibonacci series: \"))\n",
    " \n",
    "# check if the number of terms is valid\n",
    "if n <= 0:\n",
    "    print(\"Invalid input! Please input a positive value\")\n",
    "else:\n",
    "    print(\"Fibonacci series:\")\n",
    "for i in range(n):\n",
    "    print(recursive_fibonacci(i),end=\", \")"
   ]
  },
  {
   "cell_type": "code",
   "execution_count": null,
   "id": "094aa0fb",
   "metadata": {},
   "outputs": [],
   "source": [
    "Q2:\n",
    "Write a Python Program to Find Factorial of a Number using Recursion ?"
   ]
  },
  {
   "cell_type": "code",
   "execution_count": 9,
   "id": "1278ac5e",
   "metadata": {},
   "outputs": [
    {
     "name": "stdout",
     "output_type": "stream",
     "text": [
      "Enter an integer whose factorial is required: 7\n",
      "The factorial of 7 is 5040\n"
     ]
    }
   ],
   "source": [
    "#Ans2:\n",
    "def factorial(n):\n",
    "    if n>0:\n",
    "        result=(n*factorial(n-1))\n",
    "    elif n==0:\n",
    "        result=1\n",
    "    else:\n",
    "        print(\"Enter a positive integer\")\n",
    "    return result\n",
    "n=int(input(\"Enter an integer whose factorial is required: \"))\n",
    "result=factorial(n)\n",
    "print(f\"The factorial of {n} is {result}\")"
   ]
  },
  {
   "cell_type": "code",
   "execution_count": null,
   "id": "66edc57d",
   "metadata": {},
   "outputs": [],
   "source": [
    "Q3:\n",
    "Write a Python Program to Calculate your Body Mass Index?"
   ]
  },
  {
   "cell_type": "code",
   "execution_count": 11,
   "id": "3cb76b76",
   "metadata": {},
   "outputs": [
    {
     "name": "stdout",
     "output_type": "stream",
     "text": [
      "Enter your weight in kilograms: 63\n",
      "Enter the height in centimeter: 172.72\n",
      "Your BMI is 21.118121821018725 and according to your weight and height you are Healthy\n"
     ]
    }
   ],
   "source": [
    "#Ans3:\n",
    "def cal_BMI():\n",
    "    weight=float(input(\"Enter your weight in kilograms: \"))\n",
    "    height=float(input(\"Enter the height in centimeter: \"))\n",
    "    bmi=weight/((height/100)**2)\n",
    "    if (bmi < 18.4):\n",
    "        result=\"Underweight\"\n",
    "    elif (bmi>18.4 and bmi<25):\n",
    "        result=\"Healthy\"\n",
    "    else:\n",
    "        result=\"Overweight\"\n",
    "    \n",
    "    print(f\"Your BMI is {bmi} and according to your weight and height you are {result}\")\n",
    "cal_BMI()"
   ]
  },
  {
   "cell_type": "code",
   "execution_count": null,
   "id": "136385d7",
   "metadata": {},
   "outputs": [],
   "source": [
    "Q4:\n",
    "Write a Python Program to calculate the natural logarithm of any number?"
   ]
  },
  {
   "cell_type": "code",
   "execution_count": 21,
   "id": "22425de5",
   "metadata": {},
   "outputs": [
    {
     "name": "stdout",
     "output_type": "stream",
     "text": [
      "Enter any number to find its log: 10\n",
      "2.302585092994046\n"
     ]
    }
   ],
   "source": [
    "#Ans4:\n",
    "import math\n",
    "def logarithm():\n",
    "    try:\n",
    "        num=float(input(\"Enter any number to find its log: \"))\n",
    "        logarithm=math.log(num)\n",
    "        print(logarithm)\n",
    "    except Exception as e:\n",
    "        print(\"There is an error, please re-enter a number,\",e)\n",
    "logarithm()"
   ]
  },
  {
   "cell_type": "code",
   "execution_count": null,
   "id": "b43bcc27",
   "metadata": {},
   "outputs": [],
   "source": [
    "Q5:\n",
    "Write a Python Program for cube sum of first n natural numbers?"
   ]
  },
  {
   "cell_type": "code",
   "execution_count": 32,
   "id": "bb247e23",
   "metadata": {},
   "outputs": [
    {
     "name": "stdout",
     "output_type": "stream",
     "text": [
      "Enter any integer: 6\n",
      "The sum of first 6 natural numbers is 441\n"
     ]
    }
   ],
   "source": [
    "#Ans5:\n",
    "def cube_sum():\n",
    "    sum=0\n",
    "    n=int(input(\"Enter any integer: \"))\n",
    "    if n >=0:\n",
    "        for i in range(1,n+1):\n",
    "            sum=sum+(i**3)\n",
    "        print(f\"The sum of first {n} natural numbers is {sum}\")\n",
    "    else:\n",
    "        print(\"Please enter positive integer only\")\n",
    "cube_sum()"
   ]
  }
 ],
 "metadata": {
  "kernelspec": {
   "display_name": "Python 3 (ipykernel)",
   "language": "python",
   "name": "python3"
  },
  "language_info": {
   "codemirror_mode": {
    "name": "ipython",
    "version": 3
   },
   "file_extension": ".py",
   "mimetype": "text/x-python",
   "name": "python",
   "nbconvert_exporter": "python",
   "pygments_lexer": "ipython3",
   "version": "3.9.13"
  }
 },
 "nbformat": 4,
 "nbformat_minor": 5
}
