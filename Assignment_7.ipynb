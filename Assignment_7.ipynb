{
 "cells": [
  {
   "cell_type": "code",
   "execution_count": null,
   "id": "6e0d1e1a",
   "metadata": {},
   "outputs": [],
   "source": [
    "Q1:\n",
    "Write a Python Program to find sum of array?"
   ]
  },
  {
   "cell_type": "code",
   "execution_count": 5,
   "id": "e7b5261b",
   "metadata": {},
   "outputs": [
    {
     "name": "stdout",
     "output_type": "stream",
     "text": [
      "Enter an array: 5,1,7,4,56,98\n",
      "The sum of the array (5, 1, 7, 4, 56, 98) is 171\n"
     ]
    }
   ],
   "source": [
    "#Ans1:\n",
    "def Sum_of_Array():\n",
    "    try:\n",
    "        array=eval(input(\"Enter an array: \"))\n",
    "        print(f\"The sum of the array {array} is {sum(array)}\")\n",
    "    except Exception as e:\n",
    "        print(\"There is a problem in the code:\", e)\n",
    "        \n",
    "Sum_of_Array()"
   ]
  },
  {
   "cell_type": "code",
   "execution_count": null,
   "id": "281d927f",
   "metadata": {},
   "outputs": [],
   "source": [
    "Q2:\n",
    "Write a Python Program to find Largest element in an Array?"
   ]
  },
  {
   "cell_type": "code",
   "execution_count": 7,
   "id": "e8e2836e",
   "metadata": {},
   "outputs": [
    {
     "name": "stdout",
     "output_type": "stream",
     "text": [
      "Enter an array: 45,3,6,43,67,2,45,12,23\n",
      "67\n"
     ]
    }
   ],
   "source": [
    "#Ans2:\n",
    "def find_largest():\n",
    "    array=eval(input(\"Enter an array: \"))\n",
    "    result=max(array)\n",
    "    print(result)\n",
    "    \n",
    "find_largest()"
   ]
  },
  {
   "cell_type": "code",
   "execution_count": null,
   "id": "6d35170c",
   "metadata": {},
   "outputs": [],
   "source": [
    "Q3:\n",
    "Write a Python Program for array rotation?"
   ]
  },
  {
   "cell_type": "code",
   "execution_count": 9,
   "id": "c53bda9c",
   "metadata": {},
   "outputs": [
    {
     "name": "stdout",
     "output_type": "stream",
     "text": [
      "Enter an array: 12,34,3,7,2,87,34\n",
      "The inverse of the elements of array (12, 34, 3, 7, 2, 87, 34) is (34, 87, 2, 7, 3, 34, 12)\n"
     ]
    }
   ],
   "source": [
    "#Ans3:\n",
    "def Array_rotation():\n",
    "    array=eval(input(\"Enter an array: \"))\n",
    "    print(f\"The inverse of the elements of array {array} is {array[::-1]}\")\n",
    "    \n",
    "Array_rotation()"
   ]
  },
  {
   "cell_type": "code",
   "execution_count": null,
   "id": "0544cfcf",
   "metadata": {},
   "outputs": [],
   "source": [
    "Q4:\n",
    "Write a Python Program to Split the array and add the first part to the end?"
   ]
  },
  {
   "cell_type": "code",
   "execution_count": 16,
   "id": "6a894eee",
   "metadata": {},
   "outputs": [
    {
     "name": "stdout",
     "output_type": "stream",
     "text": [
      "Enter an array: 12,23,34,45,56,67,78,89,90,21,32,43\n",
      "The first part of array 12 is added to the last part and the result is: 55\n"
     ]
    }
   ],
   "source": [
    "#Ans4:\n",
    "import numpy as np\n",
    "def split_array():\n",
    "    array=eval(input('Enter an array: '))\n",
    "    print(f\"The first part of array {array[0]} is added to the last part and the result is: {array[0]+array[-1]}\")\n",
    "    \n",
    "split_array()"
   ]
  },
  {
   "cell_type": "code",
   "execution_count": null,
   "id": "18e04815",
   "metadata": {},
   "outputs": [],
   "source": [
    "Q5:\n",
    "Write a Python Program to check if given array is Monotonic?"
   ]
  },
  {
   "cell_type": "code",
   "execution_count": 23,
   "id": "0c7e637d",
   "metadata": {},
   "outputs": [
    {
     "name": "stdout",
     "output_type": "stream",
     "text": [
      "Enter an array: 12,23,34,45,56,67,78,89,90\n",
      "The array is Monotic\n"
     ]
    }
   ],
   "source": [
    "#Ans5:\n",
    "def mono_array():\n",
    "    array=eval(input(\"Enter an array: \"))\n",
    "    if(all(array[i]<=array[i+1] for i in range(len(array)-1)) or all(array[i]>=array[i+1] for i in range(len(array)-1))):\n",
    "        print(\"The array is Monotic\")\n",
    "    else:\n",
    "        print(\"Array is not Monotonic\")\n",
    "\n",
    "mono_array()"
   ]
  }
 ],
 "metadata": {
  "kernelspec": {
   "display_name": "Python 3 (ipykernel)",
   "language": "python",
   "name": "python3"
  },
  "language_info": {
   "codemirror_mode": {
    "name": "ipython",
    "version": 3
   },
   "file_extension": ".py",
   "mimetype": "text/x-python",
   "name": "python",
   "nbconvert_exporter": "python",
   "pygments_lexer": "ipython3",
   "version": "3.9.13"
  }
 },
 "nbformat": 4,
 "nbformat_minor": 5
}
