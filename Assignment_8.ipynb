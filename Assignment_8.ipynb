{
 "cells": [
  {
   "cell_type": "code",
   "execution_count": null,
   "id": "3fbe759c",
   "metadata": {},
   "outputs": [],
   "source": [
    "Q1:\n",
    "Write a Python Program to Add two Matrices?"
   ]
  },
  {
   "cell_type": "code",
   "execution_count": 3,
   "id": "cc9622bf",
   "metadata": {},
   "outputs": [
    {
     "name": "stdout",
     "output_type": "stream",
     "text": [
      "Inputs: [[1, 5, 3], [8, 7, 6], [7, 5, 0]],[[6, 1, 1], [3, 7, 15], [9, 0, 4]]\n",
      "Output: [[7, 6, 4], [11, 14, 21], [16, 5, 4]]\n"
     ]
    }
   ],
   "source": [
    "#Ans1:\n",
    "def Add_Matrices(a,b):\n",
    "    print(f\"Inputs: {a},{b}\")\n",
    "    if len(a) == len(b):\n",
    "        final_matrix = []\n",
    "        for i in range(len(a)):\n",
    "            if len(a[i]) == len(b[i]):\n",
    "                final_matrix.append([])\n",
    "                for j in range(len(a[i])):\n",
    "                    final_matrix[i].append(a[i][j]+b[i][j])\n",
    "            else:\n",
    "                print('For addition, Matrices must contains same no of rows and columns') \n",
    "    else:\n",
    "        print('For addition, Matrices must contains same no of rows and columns')\n",
    "    print(f'Output: {final_matrix}')\n",
    "\n",
    "Add_Matrices([[1,5,3],[8,7,6],[7,5,0]],[[6,1,1],[3,7,15],[9,0,4]])"
   ]
  },
  {
   "cell_type": "code",
   "execution_count": 5,
   "id": "8ede4aab",
   "metadata": {},
   "outputs": [
    {
     "name": "stdout",
     "output_type": "stream",
     "text": [
      "Enter the number of rows of first matrix: 3\n",
      "Enter the number of columns of first matrix: 3\n",
      "Enter the number of rows of second matrix: 3\n",
      "Enter the number of columns of second matrix: 3\n",
      "Enter the 9 entries for the first matrix, separated by space: \n",
      "1 2 3 4 5 6 7 8 9\n",
      "Enter the 9 entries for the second matrix, separated by space: \n",
      "9 8 4 3 1 6 4 7 9\n",
      "M1=[[1 2 3]\n",
      " [4 5 6]\n",
      " [7 8 9]]\n",
      "M2=[[9 8 4]\n",
      " [3 1 6]\n",
      " [4 7 9]]\n",
      "The result of addition of matrices \n",
      "    [[1 2 3]\n",
      " [4 5 6]\n",
      " [7 8 9]] \n",
      "    and \n",
      "    [[9 8 4]\n",
      " [3 1 6]\n",
      " [4 7 9]] \n",
      "    is \n",
      "    [[10 10  7]\n",
      " [ 7  6 12]\n",
      " [11 15 18]]\n"
     ]
    }
   ],
   "source": [
    "#Ans1 Using Numpy\n",
    "import numpy as np\n",
    "\n",
    "def add_matrices():\n",
    "    R1=int(input(\"Enter the number of rows of first matrix: \"))\n",
    "    C1=int(input(\"Enter the number of columns of first matrix: \"))\n",
    "    R2=int(input(\"Enter the number of rows of second matrix: \"))\n",
    "    C2=int(input(\"Enter the number of columns of second matrix: \"))\n",
    "    print(f\"Enter the {R1*C1} entries for the first matrix, separated by space: \")\n",
    "    entries1=list(map(int, input().split()))\n",
    "    print(f\"Enter the {R1*C1} entries for the second matrix, separated by space: \")\n",
    "    entries2=list(map(int, input().split()))\n",
    "    M1=np.array(entries1).reshape(R1,C1)\n",
    "    print(f\"M1={M1}\")\n",
    "    M2=np.array(entries2).reshape(R2,C2)\n",
    "    print(f\"M2={M2}\")\n",
    "    M3=M1+M2\n",
    "    print(f\"\"\"The result of addition of matrices \n",
    "    {M1} \n",
    "    and \n",
    "    {M2} \n",
    "    is \n",
    "    {M3}\"\"\")\n",
    "    \n",
    "add_matrices()"
   ]
  },
  {
   "cell_type": "code",
   "execution_count": null,
   "id": "e890f2d6",
   "metadata": {},
   "outputs": [],
   "source": [
    "Q2:\n",
    "Write a Python Program to Multiply two Matrices?"
   ]
  },
  {
   "cell_type": "code",
   "execution_count": 5,
   "id": "537a4d8d",
   "metadata": {},
   "outputs": [
    {
     "name": "stdout",
     "output_type": "stream",
     "text": [
      "[[48, 36, 88], [123, 57, 137], [57, 42, 82]]\n"
     ]
    }
   ],
   "source": [
    "#Ans2:\n",
    "def multiply_matrices(a,b):\n",
    "    output = []\n",
    "    if len(a[0]) == len(b):\n",
    "        for k in range(len(a[0])):\n",
    "            output.append([0 for k in range(len(b[0]))])\n",
    "        for i in range(len(a)):\n",
    "            for j in range(len(b[0])):\n",
    "                for l in range(len(b)):\n",
    "                    output[i][j] += a[i][l]*b[l][j]\n",
    "        print(output)     \n",
    "    else:\n",
    "        print('Matrix Multiplication is Not Possible')\n",
    "        \n",
    "multiply_matrices([[1, 5, 3], [8, 7, 6], [7, 5, 0]],[[6, 1, 1], [3, 7, 15], [9, 0, 4]])"
   ]
  },
  {
   "cell_type": "code",
   "execution_count": null,
   "id": "8e13e00e",
   "metadata": {},
   "outputs": [],
   "source": [
    "Q3:\n",
    "Write a Python Program to transpose a Matrix ?"
   ]
  },
  {
   "cell_type": "code",
   "execution_count": 8,
   "id": "e0fc7881",
   "metadata": {},
   "outputs": [
    {
     "name": "stdout",
     "output_type": "stream",
     "text": [
      "[[1, 2, 3], [4, 5, 6], [7, 8, 9]] ---> [[1, 4, 7], [2, 5, 8], [3, 6, 9]]\n",
      "[[1, 2], [4, 5], [6, 7]] ---> [[1, 4, 6], [2, 5, 7]]\n",
      "[[1, 2, 3], [4, 5, 6]] ---> [[1, 4], [2, 5], [3, 6]]\n"
     ]
    }
   ],
   "source": [
    "#Ans3\n",
    "a = [[1,2,3],[4,5,6],[7,8,9]]\n",
    "b = [[1,2],[4,5],[6,7]]\n",
    "c = [[1,2,3],[4,5,6]]\n",
    "\n",
    "def generate_transpose(matrix):\n",
    "    matrix_new = []\n",
    "    for item in range(len(matrix[0])):\n",
    "        matrix_new.append([0 for i in range(len(matrix))])\n",
    "    for i in range(len(matrix)):\n",
    "        for j in range(len(matrix[i])):\n",
    "            matrix_new[j][i] = matrix[i][j]\n",
    "    print(f'{matrix} ---> {matrix_new}')\n",
    "        \n",
    "generate_transpose(a)\n",
    "generate_transpose(b)\n",
    "generate_transpose(c)"
   ]
  },
  {
   "cell_type": "code",
   "execution_count": null,
   "id": "3f116216",
   "metadata": {},
   "outputs": [],
   "source": [
    "Q4:\n",
    "Write a Python Program to sort Words in an Alphabatical Order ?"
   ]
  },
  {
   "cell_type": "code",
   "execution_count": 11,
   "id": "48650a4d",
   "metadata": {},
   "outputs": [
    {
     "name": "stdout",
     "output_type": "stream",
     "text": [
      "Enter a string of words: ineuron is the best platform to learn Data Science\n",
      "Best Data Ineuron Is Learn Platform Science The To\n"
     ]
    }
   ],
   "source": [
    "#Ans4:\n",
    "def word_order():\n",
    "    words=input(\"Enter a string of words: \").title()\n",
    "    sorted_words=sorted(words.split())\n",
    "    print(\" \".join(sorted_words))\n",
    "    \n",
    "word_order()"
   ]
  },
  {
   "cell_type": "code",
   "execution_count": null,
   "id": "3775c3e2",
   "metadata": {},
   "outputs": [],
   "source": [
    "Q5:\n",
    "Write a Python Program to remove Punctuations From a String ?"
   ]
  },
  {
   "cell_type": "code",
   "execution_count": 18,
   "id": "41d9a61e",
   "metadata": {
    "scrolled": true
   },
   "outputs": [
    {
     "name": "stdout",
     "output_type": "stream",
     "text": [
      "Enter any string:\n",
      "I am learning D/S with the help of Sudhanshu & Krish\n",
      "Result is:  I am learning DS with the help of Sudhanshu  Krish\n"
     ]
    }
   ],
   "source": [
    "#Ans5:\n",
    "def Remove_Punc():\n",
    "    MyString=input(\"Enter any string:\\n\")\n",
    "    punctuation=\"\"\"!()-[]{};:'\"\\,<>./?@#$%^&*_~\"\"\"\n",
    "    Result=\" \"\n",
    "    for item in MyString:\n",
    "        if item not in punctuation:\n",
    "            Result = Result+item\n",
    "    print(f\"Result is: {Result}\")\n",
    "        \n",
    "Remove_Punc()"
   ]
  }
 ],
 "metadata": {
  "kernelspec": {
   "display_name": "Python 3 (ipykernel)",
   "language": "python",
   "name": "python3"
  },
  "language_info": {
   "codemirror_mode": {
    "name": "ipython",
    "version": 3
   },
   "file_extension": ".py",
   "mimetype": "text/x-python",
   "name": "python",
   "nbconvert_exporter": "python",
   "pygments_lexer": "ipython3",
   "version": "3.9.13"
  }
 },
 "nbformat": 4,
 "nbformat_minor": 5
}
