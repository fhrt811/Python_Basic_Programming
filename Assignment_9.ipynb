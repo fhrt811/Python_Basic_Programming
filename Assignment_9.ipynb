{
 "cells": [
  {
   "cell_type": "code",
   "execution_count": null,
   "id": "397e80b5",
   "metadata": {},
   "outputs": [],
   "source": [
    "Q1:\n",
    "Write a Python Program to check if the given number is a Disarium Number?"
   ]
  },
  {
   "cell_type": "code",
   "execution_count": 2,
   "id": "22fd3514",
   "metadata": {},
   "outputs": [
    {
     "name": "stdout",
     "output_type": "stream",
     "text": [
      "Enter a positive integer to check whether it is disarium or not: 89\n",
      "The number is disarium\n",
      "Enter a positive integer to check whether it is disarium or not: 510\n",
      "Number is not a disarium\n"
     ]
    }
   ],
   "source": [
    "#Ans1:\n",
    "#Disarium numbers are those numbers which is equal to the sum of digits to the power to their place in the number\n",
    "def disarium():\n",
    "    #getting input to check is it disarium number or not\n",
    "    num=input(\"Enter a positive integer to check whether it is disarium or not: \")\n",
    "    sum=0\n",
    "    for i in range(len(num)):\n",
    "        sum=sum+(int(num[i])**(i+1))\n",
    "    if sum==int(num):\n",
    "        print(\"The number is disarium\") #If the number is disarium, this will print\n",
    "    else:\n",
    "        print(\"Number is not a disarium\") #If the number is not disarium, this will print\n",
    "        \n",
    "disarium()\n",
    "disarium()"
   ]
  },
  {
   "cell_type": "code",
   "execution_count": null,
   "id": "87325a40",
   "metadata": {},
   "outputs": [],
   "source": [
    "Q2:\n",
    "Write a Python Program to print all Disarium numbers between 1 to 100 ?"
   ]
  },
  {
   "cell_type": "code",
   "execution_count": 7,
   "id": "1cf9ee02",
   "metadata": {},
   "outputs": [
    {
     "data": {
      "text/plain": [
       "[1, 2, 3, 4, 5, 6, 7, 8, 9, 89]"
      ]
     },
     "execution_count": 7,
     "metadata": {},
     "output_type": "execute_result"
    }
   ],
   "source": [
    "#Ans2:\n",
    "def disarium_in_range(start,end):\n",
    "    list=[]  \n",
    "    for num in range(start,end+1):\n",
    "        sum=0\n",
    "        for i in range(len(str(num))):\n",
    "            sum=sum+(int(str(num)[i])**(i+1))\n",
    "        if sum==int(num):\n",
    "            list.append(num)\n",
    "    return list\n",
    "\n",
    "disarium_in_range(1,101)"
   ]
  },
  {
   "cell_type": "code",
   "execution_count": null,
   "id": "7d8278dd",
   "metadata": {},
   "outputs": [],
   "source": [
    "Q3:\n",
    "Write a Python Program to check if the given number is Happy Number?"
   ]
  },
  {
   "cell_type": "code",
   "execution_count": 8,
   "id": "d7014b15",
   "metadata": {},
   "outputs": [
    {
     "name": "stdout",
     "output_type": "stream",
     "text": [
      "Enter a Number: 89\n",
      "89 is not a Happy Number\n",
      "Enter a Number: 13\n",
      "13 is a Happy Number\n"
     ]
    }
   ],
   "source": [
    "#Ans3:\n",
    "#A number is called happy if it leads to 1 after a sequence of steps wherein each step number is replaced by the sum of\n",
    "#squares of its digit that is if we start with Happy Number and keep replacing it with digits square sum, we reach 1.\n",
    "\n",
    "def HappyNumber():\n",
    "    num = input('Enter a Number: ')\n",
    "    num_copy = num\n",
    "    trackNum = set()   \n",
    "    while True:\n",
    "        if num != '1' and str(num) not in trackNum:\n",
    "            trackNum.add(num)\n",
    "            sum = 0\n",
    "            for i in range(len((num))):\n",
    "                sum = sum + int(num[i])**2\n",
    "            num = str(sum)\n",
    "        elif str(num) in trackNum:\n",
    "            print(f'{num_copy} is not a Happy Number')\n",
    "            break\n",
    "        else:\n",
    "            print(f'{num_copy} is a Happy Number')\n",
    "            break\n",
    "\n",
    "HappyNumber()\n",
    "HappyNumber()"
   ]
  },
  {
   "cell_type": "code",
   "execution_count": null,
   "id": "7e5e4703",
   "metadata": {},
   "outputs": [],
   "source": [
    "Q4:\n",
    "Write a Python Program to print all Happy numbers between 1 and 100?"
   ]
  },
  {
   "cell_type": "code",
   "execution_count": 9,
   "id": "77408c7d",
   "metadata": {},
   "outputs": [
    {
     "name": "stdout",
     "output_type": "stream",
     "text": [
      "The Happy Numbers between 0 and 100 are [1, 7, 10, 13, 19, 23, 28, 31, 32, 44, 49, 68, 70, 79, 82, 86, 91, 94, 97, 100]\n"
     ]
    }
   ],
   "source": [
    "#Ans4:\n",
    "def checkHappyNumber(start=0,end=100):\n",
    "    happyNumbersList = []\n",
    "    for in_num in range(start,end+1):\n",
    "        in_num = str(in_num)\n",
    "        inum_holder = in_num\n",
    "        trackNumber = set()   \n",
    "        while True:\n",
    "            if in_num != '1' and str(in_num) not in trackNumber:\n",
    "                trackNumber.add(in_num)\n",
    "                sum = 0\n",
    "                for ele in range(len((in_num))):\n",
    "                    sum = sum + int(in_num[ele])**2\n",
    "                in_num = str(sum)\n",
    "            elif str(in_num) in trackNumber:\n",
    "                break\n",
    "            else:\n",
    "                happyNumbersList.append(int(inum_holder))\n",
    "                break\n",
    "    print(f'The Happy Numbers between {start} and {end} are {happyNumbersList}')\n",
    "    \n",
    "checkHappyNumber(0,100)"
   ]
  },
  {
   "cell_type": "code",
   "execution_count": null,
   "id": "49722d8d",
   "metadata": {},
   "outputs": [],
   "source": [
    "Q5:\n",
    "Write a Python Program to determine whether the given number is a Harshad Number?"
   ]
  },
  {
   "cell_type": "code",
   "execution_count": 13,
   "id": "0bfae8c2",
   "metadata": {},
   "outputs": [
    {
     "name": "stdout",
     "output_type": "stream",
     "text": [
      "Enter an integer to check whether it is harshad or not: 120\n",
      "The number is Harshad number\n",
      "Enter an integer to check whether it is harshad or not: 134\n",
      "The number is not Harshad number\n"
     ]
    }
   ],
   "source": [
    "#Ans5:\n",
    "#A number is said to be the Harshad number if it is divisible by the sum of its digits.\n",
    "\n",
    "def Is_Harshad():\n",
    "    sum=0\n",
    "    num=input(\"Enter an integer to check whether it is harshad or not: \")\n",
    "    for i in range(len(num)):\n",
    "        sum=sum+int(num[i])\n",
    "    if int(num)%sum==0:\n",
    "        print(\"The number is Harshad number\")\n",
    "    else:\n",
    "        print(\"The number is not Harshad number\")\n",
    "\n",
    "Is_Harshad()\n",
    "Is_Harshad()"
   ]
  },
  {
   "cell_type": "code",
   "execution_count": null,
   "id": "f0419e3b",
   "metadata": {},
   "outputs": [],
   "source": [
    "Q6:\n",
    "Write a Python Program to print all pronic numbers between 1 and 100?"
   ]
  },
  {
   "cell_type": "code",
   "execution_count": 17,
   "id": "21be1a7b",
   "metadata": {},
   "outputs": [
    {
     "name": "stdout",
     "output_type": "stream",
     "text": [
      "0\n",
      "2\n",
      "6\n",
      "12\n",
      "20\n",
      "30\n",
      "42\n",
      "56\n",
      "72\n",
      "90\n"
     ]
    }
   ],
   "source": [
    "#Ans6:\n",
    "#A pronic number is a number that is the product of two consecutive integers.\n",
    "\n",
    "def pronic():\n",
    "    for i in range(0,100):\n",
    "        num=i*(i+1)\n",
    "        if num>=100:\n",
    "            break\n",
    "        print(num)\n",
    "        \n",
    "pronic()"
   ]
  }
 ],
 "metadata": {
  "kernelspec": {
   "display_name": "Python 3 (ipykernel)",
   "language": "python",
   "name": "python3"
  },
  "language_info": {
   "codemirror_mode": {
    "name": "ipython",
    "version": 3
   },
   "file_extension": ".py",
   "mimetype": "text/x-python",
   "name": "python",
   "nbconvert_exporter": "python",
   "pygments_lexer": "ipython3",
   "version": "3.9.13"
  }
 },
 "nbformat": 4,
 "nbformat_minor": 5
}
